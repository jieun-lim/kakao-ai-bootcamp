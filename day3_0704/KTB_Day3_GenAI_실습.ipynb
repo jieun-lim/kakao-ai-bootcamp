{
 "cells": [
  {
   "cell_type": "markdown",
   "metadata": {
    "id": "zr5LnyrKxjNd"
   },
   "source": [
    "*이탤릭체 텍스트*# 파이썬 프로그래밍 종합 실습\n",
    "기본 문법 복습, 자료형, 함수, 클래스와 객체지향 프로그래밍, 제너레이터와 이터레이터, 파일 입출력, 예외 처리를 종합적으로 활용합니다."
   ]
  },
  {
   "cell_type": "markdown",
   "metadata": {
    "id": "MwJQm7MJxvAk"
   },
   "source": [
    "*1*. 파이썬 기본 문법 복습 및 자료형\n",
    "\n",
    "문제:\n",
    "\n",
    "사용자로부터 이름, 나이, 이메일을 입력받아 딕셔너리에 저장하는 프로그램을 작성하세요.\n",
    "\n",
    "나이와 이메일의 형식을 검증하고, 잘못된 입력이 있으면 예외 처리를 하세요."
   ]
  },
  {
   "cell_type": "code",
   "execution_count": null,
   "metadata": {
    "colab": {
     "base_uri": "https://localhost:8080/"
    },
    "executionInfo": {
     "elapsed": 5,
     "status": "ok",
     "timestamp": 1720059376516,
     "user": {
      "displayName": "Jieun Lim",
      "userId": "02069494884781078305"
     },
     "user_tz": -540
    },
    "id": "RTa5Yshthu2D",
    "outputId": "efc0989e-0ad1-44ab-aa39-159dceb2c173"
   },
   "outputs": [
    {
     "data": {
      "text/plain": [
       "['', '']"
      ]
     },
     "execution_count": 1,
     "metadata": {},
     "output_type": "execute_result"
    }
   ],
   "source": [
    "a = '@'\n",
    "a.split('@')"
   ]
  },
  {
   "cell_type": "code",
   "execution_count": null,
   "metadata": {
    "colab": {
     "base_uri": "https://localhost:8080/"
    },
    "executionInfo": {
     "elapsed": 5820,
     "status": "ok",
     "timestamp": 1720060296253,
     "user": {
      "displayName": "Jieun Lim",
      "userId": "02069494884781078305"
     },
     "user_tz": -540
    },
    "id": "yKTAculHxfMp",
    "outputId": "279b97ae-d52a-4705-ffa3-471ce2f86006"
   },
   "outputs": [
    {
     "name": "stdout",
     "output_type": "stream",
     "text": [
      "이름 나이 이메일을 한 줄에 입력하시오:\n",
      "jieun 10 t@gmail.com\n",
      "나이가 정상적으로 입력되었습니다. \n",
      "이메일이 정상적으로 입력되었습니다. \n"
     ]
    }
   ],
   "source": [
    "# 사용자 정보 입력 받기\n",
    "def get_info():\n",
    "  print(\"이름 나이 이메일을 한 줄에 입력하시오:\")\n",
    "  name, age, email = input().split()\n",
    "  return name, age, email\n",
    "\n",
    "# 사용자 정의 Error 정의\n",
    "\n",
    "class AgeValidationError(Exception):\n",
    "  def __init__(self,message = \"AgeValidationError\" ):\n",
    "    self.message = message\n",
    "    super().__init__(self.message) #부모 클래스의 초기화 메소드 호출, self.message를 전달하는 역할\n",
    "\n",
    "class EmailValidationError(Exception):\n",
    "  def __init__(self,message = \"EmailValidationError\" ):\n",
    "    self.message = message\n",
    "    super().__init__(self.message) #부모 클래스의 초기화 메소드 호출, self.message를 전달하는 역할\n",
    "\n",
    "def validate_age(age):\n",
    "    # 조건: 0~9의 숫자로만 이뤄져 있고 나이가 300이하의 양수 일때\n",
    "    if age.isdigit() and 1<=int(age)<=300:\n",
    "       print(\"나이가 정상적으로 입력되었습니다. \")\n",
    "    else:\n",
    "      raise AgeValidationError()\n",
    "\n",
    "def validate_email(email):\n",
    "    # 조건: str 형식이여야 하고, 가운데에 '@'가 들어갈 때\n",
    "    if type(email) == str and '@' in email:\n",
    "      print(\"이메일이 정상적으로 입력되었습니다. \")\n",
    "    else:\n",
    "      raise EmailValidationError()\n",
    "\n",
    "name, age, email = get_info()\n",
    "\n",
    "try:\n",
    "    validate_age(age)\n",
    "    validate_email(email)\n",
    "except (AgeValidationError, EmailValidationError) as e :\n",
    "    print(e)"
   ]
  },
  {
   "cell_type": "markdown",
   "metadata": {
    "id": "in-rBALsyK33"
   },
   "source": [
    "\n",
    "\n",
    "```\n",
    "# 코드로 형식 지정됨\n",
    "```\n",
    "\n",
    "2. 함수 및 클래스와 객체지향 프로그래밍\n",
    "\n",
    "문제:\n",
    "\n",
    "간단한 계산기 클래스를 작성하세요. 이 클래스는 덧셈, 뺄셈, 곱셈, 나눗셈 메서드를 포함합니다.\n",
    "\n",
    "사용자로부터 두 숫자와 연산자를 입력받아 계산 결과를 출력하는 프로그램을 작성하세요."
   ]
  },
  {
   "cell_type": "code",
   "execution_count": null,
   "metadata": {
    "colab": {
     "base_uri": "https://localhost:8080/"
    },
    "executionInfo": {
     "elapsed": 5191,
     "status": "ok",
     "timestamp": 1720061115107,
     "user": {
      "displayName": "Jieun Lim",
      "userId": "02069494884781078305"
     },
     "user_tz": -540
    },
    "id": "v-Yn0ydQyQMO",
    "outputId": "6e3d357f-35be-4c6b-e75f-60ecfa9c9ec3"
   },
   "outputs": [
    {
     "name": "stdout",
     "output_type": "stream",
     "text": [
      "연산할 두수 x, y를 입력해주시오:\n",
      "1 0 \n",
      "입력된 두 수는 1, 0 입니다. \n",
      "1+0=1\n",
      "1-0=1\n",
      "1x0=0\n",
      "division by zero\n"
     ]
    }
   ],
   "source": [
    "# 계산기 클래스 정의\n",
    "class Calculator:\n",
    "    def __init__(self,x,y):\n",
    "      self.x = x\n",
    "      self.y = y\n",
    "    def addition(self):\n",
    "      return self.x + self.y\n",
    "\n",
    "    def substract(self):\n",
    "      return self.x - self.y\n",
    "\n",
    "    def multiply(self):\n",
    "      return self.x*self.y\n",
    "\n",
    "    def division(self):\n",
    "      return self.x/self.y\n",
    "\n",
    "# 인스턴스 생성\n",
    "print(\"연산할 두수 x, y를 입력해주시오:\")\n",
    "x,y = list(map(int, input().split()))\n",
    "c1 = Calculator(x,y)\n",
    "\n",
    "try:\n",
    "    print(f'입력된 두 수는 {c1.x}, {c1.y} 입니다. ' )\n",
    "    print(f'{x}+{y}={c1.addition()}')\n",
    "    print(f'{x}-{y}={c1.substract()}')\n",
    "    print(f'{x}x{y}={c1.multiply()}')\n",
    "    print(f'{x}/{y}={c1.division()}')\n",
    "except ZeroDivisionError as e:\n",
    "    print(e)"
   ]
  },
  {
   "cell_type": "markdown",
   "metadata": {
    "id": "OlDjuxSlyZOi"
   },
   "source": [
    "3. 제너레이터와 이터레이터\n",
    "\n",
    "문제:\n",
    "\n",
    "피보나치 수열을 생성하는 제너레이터 함수를 작성하세요.\n",
    "피보나치 수열의 첫 10개 값을 출력하세요."
   ]
  },
  {
   "cell_type": "code",
   "execution_count": null,
   "metadata": {
    "colab": {
     "base_uri": "https://localhost:8080/"
    },
    "executionInfo": {
     "elapsed": 571,
     "status": "ok",
     "timestamp": 1720062034550,
     "user": {
      "displayName": "Jieun Lim",
      "userId": "02069494884781078305"
     },
     "user_tz": -540
    },
    "id": "BkI1jD4GydEa",
    "outputId": "25f5ca18-d1ef-46d3-9f3b-4f88952954d0"
   },
   "outputs": [
    {
     "name": "stdout",
     "output_type": "stream",
     "text": [
      "1\n",
      "1\n",
      "2\n",
      "3\n",
      "5\n",
      "8\n",
      "13\n",
      "21\n",
      "34\n",
      "55\n"
     ]
    }
   ],
   "source": [
    "def fibonacci_generator():\n",
    "    count = 1 # 피보나치 수열 내 몇 번째 요소까지 인쇄할 것인가?\n",
    "    a,b = 1,1\n",
    "    while count <=10:\n",
    "      yield a # yield를 통해서, 그때그때 마다 값을 생성함.\n",
    "      a,b = b, a+b\n",
    "      count +=1\n",
    "\n",
    "# 제너레이터 객체 생성\n",
    "fib_g = fibonacci_generator()\n",
    "for num in fib_g:\n",
    "  print(num)"
   ]
  },
  {
   "cell_type": "markdown",
   "metadata": {
    "id": "83V1D42lt1M1"
   },
   "source": [
    "+ 추가\n",
    "피보나치 수열을 생성하는 이터레이터 만들어보기\n",
    "피보나치 수열의 첫 10개 값을 출력하세요."
   ]
  },
  {
   "cell_type": "code",
   "execution_count": null,
   "metadata": {
    "colab": {
     "base_uri": "https://localhost:8080/"
    },
    "executionInfo": {
     "elapsed": 394,
     "status": "ok",
     "timestamp": 1720063192660,
     "user": {
      "displayName": "Jieun Lim",
      "userId": "02069494884781078305"
     },
     "user_tz": -540
    },
    "id": "o5Ze1u3Nt0cp",
    "outputId": "a75c2629-e6ef-4206-ace4-abe82d830dd1"
   },
   "outputs": [
    {
     "name": "stdout",
     "output_type": "stream",
     "text": [
      "1\n",
      "2\n",
      "3\n",
      "5\n",
      "8\n",
      "13\n",
      "21\n",
      "34\n",
      "55\n",
      "89\n"
     ]
    }
   ],
   "source": [
    "class fibonacci_iterator:\n",
    "    def __init__(self, max_count): #count : # 피보나치 수열 내 몇 번째 요소까지 인쇄할 것인가?\n",
    "      self.max_count = max_count\n",
    "      self.count = 1 # 몇 번째 피보나치 수열을 인쇄했는가?\n",
    "      self.a, self.b = 1,1\n",
    "\n",
    "    def __iter__(self):\n",
    "      return self\n",
    "\n",
    "\n",
    "    def __next__(self): #반복할 수 있는 객체 내 값을 반환한다.\n",
    "      if self.count > self.max_count:\n",
    "        raise StopIteration\n",
    "      self.a , self.b = self.b, self.a+self.b\n",
    "      self.count +=1\n",
    "      return self.a\n",
    "\n",
    "# 이터레이터 객체 생성\n",
    "fib_iter = fibonacci_iterator(max_count=10)\n",
    "for num in fib_iter:\n",
    "  print(num)"
   ]
  },
  {
   "cell_type": "markdown",
   "metadata": {
    "id": "O-_Q0pRUycx0"
   },
   "source": [
    "4. 파일 입출력\n",
    "\n",
    "문제:\n",
    "\n",
    "사용자로부터 입력받은 데이터를 파일에 저장하고, 파일 내용을 읽어 출력하는 프로그램을 작성하세요.\n",
    "\n",
    "데이터는 JSON 형식으로 저장하세요"
   ]
  },
  {
   "cell_type": "code",
   "execution_count": null,
   "metadata": {
    "colab": {
     "base_uri": "https://localhost:8080/"
    },
    "executionInfo": {
     "elapsed": 370,
     "status": "ok",
     "timestamp": 1720063619381,
     "user": {
      "displayName": "Jieun Lim",
      "userId": "02069494884781078305"
     },
     "user_tz": -540
    },
    "id": "nyLTxXTHyqKE",
    "outputId": "9aad4136-2915-4879-c255-7411aff3b282"
   },
   "outputs": [
    {
     "name": "stdout",
     "output_type": "stream",
     "text": [
      "{'name': 'jito', 'age': 23, 'email': 'jito@email.com'}\n"
     ]
    }
   ],
   "source": [
    "import json\n",
    "data = {'name':'jito', 'age':23, 'email':'jito@email.com'}\n",
    "\n",
    "#파일 쓰기\n",
    "with open('example.json','w') as file:\n",
    "    json.dump(data, file)\n",
    "\n",
    "with open('example.json','r') as file:\n",
    "    content = json.load(file)\n",
    "    print(content)"
   ]
  },
  {
   "cell_type": "markdown",
   "metadata": {
    "id": "snEMYElhy3Q3"
   },
   "source": [
    "\n",
    "\n",
    "```\n",
    "# 코드로 형식 지정됨\n",
    "```\n",
    "\n",
    "5. Database 연동\n",
    "\n",
    "문제:\n",
    "\n",
    "SQLite 데이터베이스에 사용자 정보를 저장하고, 저장된 데이터를 조회하여 출력하는 프로그램을 작성하세요.\n",
    "\n",
    "테이블은 users로 하고, id, name, age, email 컬럼을 포함합니다."
   ]
  },
  {
   "cell_type": "code",
   "execution_count": null,
   "metadata": {
    "colab": {
     "base_uri": "https://localhost:8080/"
    },
    "executionInfo": {
     "elapsed": 367,
     "status": "ok",
     "timestamp": 1720063928934,
     "user": {
      "displayName": "Jieun Lim",
      "userId": "02069494884781078305"
     },
     "user_tz": -540
    },
    "id": "d8BgUC0ky6_b",
    "outputId": "04735a04-1ada-4544-82b2-77d0d2a278ac"
   },
   "outputs": [
    {
     "data": {
      "text/plain": [
       "<sqlite3.Cursor at 0x788918103b40>"
      ]
     },
     "execution_count": 7,
     "metadata": {},
     "output_type": "execute_result"
    }
   ],
   "source": [
    "import sqlite3\n",
    "\n",
    "#기본 세팅\n",
    "connection = sqlite3.connect('test.db') # DB-APP 연결, test.db은 연결할 DB 이름\n",
    "cursor = connection.cursor() # cursor 객체 생성, DB의 조작(삭제, 삽입 등)을 담당\n",
    "\n",
    "# 테이블 생성\n",
    "cursor.execute('''CREATE TABLE users(\n",
    "                      id integer PRIMARY KEY,\n",
    "                      name text,\n",
    "                      age interger,\n",
    "                      email text\n",
    "              )''')"
   ]
  },
  {
   "cell_type": "code",
   "execution_count": null,
   "metadata": {
    "colab": {
     "base_uri": "https://localhost:8080/"
    },
    "executionInfo": {
     "elapsed": 389,
     "status": "ok",
     "timestamp": 1720064055584,
     "user": {
      "displayName": "Jieun Lim",
      "userId": "02069494884781078305"
     },
     "user_tz": -540
    },
    "id": "idddGh4WzLT-",
    "outputId": "ea8fa3cc-37af-4931-ec5d-832c64a1cdd4"
   },
   "outputs": [
    {
     "data": {
      "text/plain": [
       "<sqlite3.Cursor at 0x788918103b40>"
      ]
     },
     "execution_count": 9,
     "metadata": {},
     "output_type": "execute_result"
    }
   ],
   "source": [
    "# 데이터 삽입\n",
    "cursor.execute(\"\"\"INSERT INTO users\n",
    "                  VALUES( 1,'jito', 20, 'jito@email' )\"\"\")"
   ]
  },
  {
   "cell_type": "code",
   "execution_count": null,
   "metadata": {
    "colab": {
     "base_uri": "https://localhost:8080/"
    },
    "executionInfo": {
     "elapsed": 370,
     "status": "ok",
     "timestamp": 1720064137958,
     "user": {
      "displayName": "Jieun Lim",
      "userId": "02069494884781078305"
     },
     "user_tz": -540
    },
    "id": "yrxmPc96zysb",
    "outputId": "e74d77d1-8e9e-414e-ff4c-f934c873543d"
   },
   "outputs": [
    {
     "name": "stdout",
     "output_type": "stream",
     "text": [
      "(1, 'jito', 20, 'jito@email')\n"
     ]
    }
   ],
   "source": [
    "cursor.execute('SELECT * FROM users')\n",
    "row = cursor.fetchone()\n",
    "print(row)"
   ]
  },
  {
   "cell_type": "markdown",
   "metadata": {
    "id": "qFd9nMWdzMaw"
   },
   "source": [
    "6. 예외 처리\n",
    "\n",
    "문제:\n",
    "\n",
    "사용자로부터 숫자를 입력받아, 그 숫자를 10으로 나누는 프로그램을 작성하세요.\n",
    "\n",
    "0으로 나누는 경우와 숫자가 아닌 값을 입력받는 경우를 처리하세요."
   ]
  },
  {
   "cell_type": "code",
   "execution_count": null,
   "metadata": {
    "colab": {
     "base_uri": "https://localhost:8080/"
    },
    "executionInfo": {
     "elapsed": 3041,
     "status": "ok",
     "timestamp": 1720064521096,
     "user": {
      "displayName": "Jieun Lim",
      "userId": "02069494884781078305"
     },
     "user_tz": -540
    },
    "id": "B_0S33jOzPDJ",
    "outputId": "e571dd6b-6543-4a11-c6d7-ed37330f7318"
   },
   "outputs": [
    {
     "name": "stdout",
     "output_type": "stream",
     "text": [
      "숫자 1개를 입력해주세요.\n",
      "hello\n",
      "숫자가 아닌 것을 입력하셨어요\n"
     ]
    }
   ],
   "source": [
    "def user_input():\n",
    "  print(\"숫자 1개를 입력해주세요.\")\n",
    "  return input()\n",
    "\n",
    "n = user_input()\n",
    "result = 1\n",
    "\n",
    "try:\n",
    "  result = int(n)/10\n",
    "  print(f'결과:{result}')\n",
    "\n",
    "except ZeroDivisionError:\n",
    "  print(\"ZeroDivisionError\")\n",
    "\n",
    "except ValueError:\n",
    "  print(\"숫자가 아닌 것을 입력하셨어요\")"
   ]
  },
  {
   "cell_type": "code",
   "execution_count": null,
   "metadata": {
    "id": "eGSKTceG08kO"
   },
   "outputs": [],
   "source": []
  }
 ],
 "metadata": {
  "colab": {
   "provenance": [
    {
     "file_id": "1oILuVpnWoSBlGOOFYoEnYuD6AHNsexX-",
     "timestamp": 1720058071277
    }
   ]
  },
  "kernelspec": {
   "display_name": "Python 3 (ipykernel)",
   "language": "python",
   "name": "python3"
  },
  "language_info": {
   "codemirror_mode": {
    "name": "ipython",
    "version": 3
   },
   "file_extension": ".py",
   "mimetype": "text/x-python",
   "name": "python",
   "nbconvert_exporter": "python",
   "pygments_lexer": "ipython3",
   "version": "3.12.4"
  }
 },
 "nbformat": 4,
 "nbformat_minor": 4
}
