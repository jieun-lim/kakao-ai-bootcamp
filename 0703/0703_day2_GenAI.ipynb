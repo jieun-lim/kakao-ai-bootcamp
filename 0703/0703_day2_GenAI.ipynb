{
 "cells": [
  {
   "cell_type": "markdown",
   "metadata": {
    "id": "jLBASXQW704D"
   },
   "source": [
    "https://www.kaggle.com/datasets/rabieelkharoua/predict-customer-purchase-behavior-dataset"
   ]
  },
  {
   "cell_type": "code",
   "execution_count": null,
   "metadata": {
    "colab": {
     "base_uri": "https://localhost:8080/"
    },
    "id": "FuY2HoOQvIvO",
    "outputId": "88ab08c4-96b7-4497-f828-b7c09bfbf1c2"
   },
   "outputs": [
    {
     "name": "stdout",
     "output_type": "stream",
     "text": [
      "Requirement already satisfied: kaggle in /usr/local/lib/python3.10/dist-packages (1.6.14)\n",
      "Requirement already satisfied: six>=1.10 in /usr/local/lib/python3.10/dist-packages (from kaggle) (1.16.0)\n",
      "Requirement already satisfied: certifi>=2023.7.22 in /usr/local/lib/python3.10/dist-packages (from kaggle) (2024.6.2)\n",
      "Requirement already satisfied: python-dateutil in /usr/local/lib/python3.10/dist-packages (from kaggle) (2.8.2)\n",
      "Requirement already satisfied: requests in /usr/local/lib/python3.10/dist-packages (from kaggle) (2.31.0)\n",
      "Requirement already satisfied: tqdm in /usr/local/lib/python3.10/dist-packages (from kaggle) (4.66.4)\n",
      "Requirement already satisfied: python-slugify in /usr/local/lib/python3.10/dist-packages (from kaggle) (8.0.4)\n",
      "Requirement already satisfied: urllib3 in /usr/local/lib/python3.10/dist-packages (from kaggle) (2.0.7)\n",
      "Requirement already satisfied: bleach in /usr/local/lib/python3.10/dist-packages (from kaggle) (6.1.0)\n",
      "Requirement already satisfied: webencodings in /usr/local/lib/python3.10/dist-packages (from bleach->kaggle) (0.5.1)\n",
      "Requirement already satisfied: text-unidecode>=1.3 in /usr/local/lib/python3.10/dist-packages (from python-slugify->kaggle) (1.3)\n",
      "Requirement already satisfied: charset-normalizer<4,>=2 in /usr/local/lib/python3.10/dist-packages (from requests->kaggle) (3.3.2)\n",
      "Requirement already satisfied: idna<4,>=2.5 in /usr/local/lib/python3.10/dist-packages (from requests->kaggle) (3.7)\n"
     ]
    }
   ],
   "source": [
    "!pip install kaggle"
   ]
  },
  {
   "cell_type": "code",
   "execution_count": null,
   "metadata": {
    "colab": {
     "base_uri": "https://localhost:8080/"
    },
    "id": "WdzlzfgKvWlZ",
    "outputId": "d826903a-b18b-4497-8b44-9ebe8c8dbd7a"
   },
   "outputs": [
    {
     "name": "stdout",
     "output_type": "stream",
     "text": [
      "Dataset URL: https://www.kaggle.com/datasets/rabieelkharoua/predict-customer-purchase-behavior-dataset\n",
      "License(s): Attribution 4.0 International (CC BY 4.0)\n",
      "Downloading predict-customer-purchase-behavior-dataset.zip to /content\n",
      "  0% 0.00/35.1k [00:00<?, ?B/s]\n",
      "100% 35.1k/35.1k [00:00<00:00, 35.2MB/s]\n"
     ]
    }
   ],
   "source": [
    "!kaggle datasets download -d rabieelkharoua/predict-customer-purchase-behavior-dataset"
   ]
  },
  {
   "cell_type": "code",
   "execution_count": null,
   "metadata": {
    "colab": {
     "base_uri": "https://localhost:8080/"
    },
    "id": "vrPh3KxmvWnn",
    "outputId": "fcbfa57a-41b0-4a0c-f9ae-b3520d45d16c"
   },
   "outputs": [
    {
     "name": "stdout",
     "output_type": "stream",
     "text": [
      "Archive:  predict-customer-purchase-behavior-dataset.zip\n",
      "  inflating: customer_purchase_data.csv  \n"
     ]
    }
   ],
   "source": [
    "!unzip predict-customer-purchase-behavior-dataset.zip"
   ]
  },
  {
   "cell_type": "code",
   "execution_count": null,
   "metadata": {
    "id": "_151yAE0vWpj"
   },
   "outputs": [],
   "source": [
    "# pandas 라이브러리 사용\n",
    "import pandas as pd\n",
    "\n",
    "# CSV load\n",
    "data = pd.read_csv('customer_purchase_data.csv')"
   ]
  },
  {
   "cell_type": "code",
   "execution_count": null,
   "metadata": {
    "colab": {
     "base_uri": "https://localhost:8080/"
    },
    "id": "OaElnqmsvWrq",
    "outputId": "ef04c523-7dcd-4934-d4a7-fab1ac35ebb0"
   },
   "outputs": [
    {
     "name": "stdout",
     "output_type": "stream",
     "text": [
      "<class 'pandas.core.frame.DataFrame'>\n",
      "RangeIndex: 1500 entries, 0 to 1499\n",
      "Data columns (total 9 columns):\n",
      " #   Column              Non-Null Count  Dtype  \n",
      "---  ------              --------------  -----  \n",
      " 0   Age                 1500 non-null   int64  \n",
      " 1   Gender              1500 non-null   int64  \n",
      " 2   AnnualIncome        1500 non-null   float64\n",
      " 3   NumberOfPurchases   1500 non-null   int64  \n",
      " 4   ProductCategory     1500 non-null   int64  \n",
      " 5   TimeSpentOnWebsite  1500 non-null   float64\n",
      " 6   LoyaltyProgram      1500 non-null   int64  \n",
      " 7   DiscountsAvailed    1500 non-null   int64  \n",
      " 8   PurchaseStatus      1500 non-null   int64  \n",
      "dtypes: float64(2), int64(7)\n",
      "memory usage: 105.6 KB\n"
     ]
    }
   ],
   "source": [
    "# 데이터 구조 확인\n",
    "data.info()"
   ]
  },
  {
   "cell_type": "code",
   "execution_count": null,
   "metadata": {
    "colab": {
     "base_uri": "https://localhost:8080/",
     "height": 206
    },
    "id": "FzvgFMkUvWuI",
    "outputId": "fff152d1-15c3-45eb-9412-78a076e7ada3"
   },
   "outputs": [
    {
     "data": {
      "application/vnd.google.colaboratory.intrinsic+json": {
       "summary": "{\n  \"name\": \"data\",\n  \"rows\": 1500,\n  \"fields\": [\n    {\n      \"column\": \"Age\",\n      \"properties\": {\n        \"dtype\": \"number\",\n        \"std\": 15,\n        \"min\": 18,\n        \"max\": 70,\n        \"num_unique_values\": 53,\n        \"samples\": [\n          67,\n          58,\n          21\n        ],\n        \"semantic_type\": \"\",\n        \"description\": \"\"\n      }\n    },\n    {\n      \"column\": \"Gender\",\n      \"properties\": {\n        \"dtype\": \"number\",\n        \"std\": 0,\n        \"min\": 0,\n        \"max\": 1,\n        \"num_unique_values\": 2,\n        \"samples\": [\n          0,\n          1\n        ],\n        \"semantic_type\": \"\",\n        \"description\": \"\"\n      }\n    },\n    {\n      \"column\": \"AnnualIncome\",\n      \"properties\": {\n        \"dtype\": \"number\",\n        \"std\": 37629.493078291016,\n        \"min\": 20001.5125181976,\n        \"max\": 149785.17648108344,\n        \"num_unique_values\": 1388,\n        \"samples\": [\n          52903.200093349136,\n          60536.09730108375\n        ],\n        \"semantic_type\": \"\",\n        \"description\": \"\"\n      }\n    },\n    {\n      \"column\": \"NumberOfPurchases\",\n      \"properties\": {\n        \"dtype\": \"number\",\n        \"std\": 5,\n        \"min\": 0,\n        \"max\": 20,\n        \"num_unique_values\": 21,\n        \"samples\": [\n          8,\n          1\n        ],\n        \"semantic_type\": \"\",\n        \"description\": \"\"\n      }\n    },\n    {\n      \"column\": \"ProductCategory\",\n      \"properties\": {\n        \"dtype\": \"number\",\n        \"std\": 1,\n        \"min\": 0,\n        \"max\": 4,\n        \"num_unique_values\": 5,\n        \"samples\": [\n          2,\n          4\n        ],\n        \"semantic_type\": \"\",\n        \"description\": \"\"\n      }\n    },\n    {\n      \"column\": \"TimeSpentOnWebsite\",\n      \"properties\": {\n        \"dtype\": \"number\",\n        \"std\": 16.984392324405782,\n        \"min\": 1.037023481078914,\n        \"max\": 59.991105424697615,\n        \"num_unique_values\": 1388,\n        \"samples\": [\n          8.81566828705343,\n          55.95726056320416\n        ],\n        \"semantic_type\": \"\",\n        \"description\": \"\"\n      }\n    },\n    {\n      \"column\": \"LoyaltyProgram\",\n      \"properties\": {\n        \"dtype\": \"number\",\n        \"std\": 0,\n        \"min\": 0,\n        \"max\": 1,\n        \"num_unique_values\": 2,\n        \"samples\": [\n          1,\n          0\n        ],\n        \"semantic_type\": \"\",\n        \"description\": \"\"\n      }\n    },\n    {\n      \"column\": \"DiscountsAvailed\",\n      \"properties\": {\n        \"dtype\": \"number\",\n        \"std\": 1,\n        \"min\": 0,\n        \"max\": 5,\n        \"num_unique_values\": 6,\n        \"samples\": [\n          5,\n          0\n        ],\n        \"semantic_type\": \"\",\n        \"description\": \"\"\n      }\n    },\n    {\n      \"column\": \"PurchaseStatus\",\n      \"properties\": {\n        \"dtype\": \"number\",\n        \"std\": 0,\n        \"min\": 0,\n        \"max\": 1,\n        \"num_unique_values\": 2,\n        \"samples\": [\n          0,\n          1\n        ],\n        \"semantic_type\": \"\",\n        \"description\": \"\"\n      }\n    }\n  ]\n}",
       "type": "dataframe",
       "variable_name": "data"
      },
      "text/html": [
       "\n",
       "  <div id=\"df-150f6dd6-4657-4c4a-b652-4ac24a7fa1f1\" class=\"colab-df-container\">\n",
       "    <div>\n",
       "<style scoped>\n",
       "    .dataframe tbody tr th:only-of-type {\n",
       "        vertical-align: middle;\n",
       "    }\n",
       "\n",
       "    .dataframe tbody tr th {\n",
       "        vertical-align: top;\n",
       "    }\n",
       "\n",
       "    .dataframe thead th {\n",
       "        text-align: right;\n",
       "    }\n",
       "</style>\n",
       "<table border=\"1\" class=\"dataframe\">\n",
       "  <thead>\n",
       "    <tr style=\"text-align: right;\">\n",
       "      <th></th>\n",
       "      <th>Age</th>\n",
       "      <th>Gender</th>\n",
       "      <th>AnnualIncome</th>\n",
       "      <th>NumberOfPurchases</th>\n",
       "      <th>ProductCategory</th>\n",
       "      <th>TimeSpentOnWebsite</th>\n",
       "      <th>LoyaltyProgram</th>\n",
       "      <th>DiscountsAvailed</th>\n",
       "      <th>PurchaseStatus</th>\n",
       "    </tr>\n",
       "  </thead>\n",
       "  <tbody>\n",
       "    <tr>\n",
       "      <th>0</th>\n",
       "      <td>40</td>\n",
       "      <td>1</td>\n",
       "      <td>66120.267939</td>\n",
       "      <td>8</td>\n",
       "      <td>0</td>\n",
       "      <td>30.568601</td>\n",
       "      <td>0</td>\n",
       "      <td>5</td>\n",
       "      <td>1</td>\n",
       "    </tr>\n",
       "    <tr>\n",
       "      <th>1</th>\n",
       "      <td>20</td>\n",
       "      <td>1</td>\n",
       "      <td>23579.773583</td>\n",
       "      <td>4</td>\n",
       "      <td>2</td>\n",
       "      <td>38.240097</td>\n",
       "      <td>0</td>\n",
       "      <td>5</td>\n",
       "      <td>0</td>\n",
       "    </tr>\n",
       "    <tr>\n",
       "      <th>2</th>\n",
       "      <td>27</td>\n",
       "      <td>1</td>\n",
       "      <td>127821.306432</td>\n",
       "      <td>11</td>\n",
       "      <td>2</td>\n",
       "      <td>31.633212</td>\n",
       "      <td>1</td>\n",
       "      <td>0</td>\n",
       "      <td>1</td>\n",
       "    </tr>\n",
       "    <tr>\n",
       "      <th>3</th>\n",
       "      <td>24</td>\n",
       "      <td>1</td>\n",
       "      <td>137798.623120</td>\n",
       "      <td>19</td>\n",
       "      <td>3</td>\n",
       "      <td>46.167059</td>\n",
       "      <td>0</td>\n",
       "      <td>4</td>\n",
       "      <td>1</td>\n",
       "    </tr>\n",
       "    <tr>\n",
       "      <th>4</th>\n",
       "      <td>31</td>\n",
       "      <td>1</td>\n",
       "      <td>99300.964220</td>\n",
       "      <td>19</td>\n",
       "      <td>1</td>\n",
       "      <td>19.823592</td>\n",
       "      <td>0</td>\n",
       "      <td>0</td>\n",
       "      <td>1</td>\n",
       "    </tr>\n",
       "  </tbody>\n",
       "</table>\n",
       "</div>\n",
       "    <div class=\"colab-df-buttons\">\n",
       "\n",
       "  <div class=\"colab-df-container\">\n",
       "    <button class=\"colab-df-convert\" onclick=\"convertToInteractive('df-150f6dd6-4657-4c4a-b652-4ac24a7fa1f1')\"\n",
       "            title=\"Convert this dataframe to an interactive table.\"\n",
       "            style=\"display:none;\">\n",
       "\n",
       "  <svg xmlns=\"http://www.w3.org/2000/svg\" height=\"24px\" viewBox=\"0 -960 960 960\">\n",
       "    <path d=\"M120-120v-720h720v720H120Zm60-500h600v-160H180v160Zm220 220h160v-160H400v160Zm0 220h160v-160H400v160ZM180-400h160v-160H180v160Zm440 0h160v-160H620v160ZM180-180h160v-160H180v160Zm440 0h160v-160H620v160Z\"/>\n",
       "  </svg>\n",
       "    </button>\n",
       "\n",
       "  <style>\n",
       "    .colab-df-container {\n",
       "      display:flex;\n",
       "      gap: 12px;\n",
       "    }\n",
       "\n",
       "    .colab-df-convert {\n",
       "      background-color: #E8F0FE;\n",
       "      border: none;\n",
       "      border-radius: 50%;\n",
       "      cursor: pointer;\n",
       "      display: none;\n",
       "      fill: #1967D2;\n",
       "      height: 32px;\n",
       "      padding: 0 0 0 0;\n",
       "      width: 32px;\n",
       "    }\n",
       "\n",
       "    .colab-df-convert:hover {\n",
       "      background-color: #E2EBFA;\n",
       "      box-shadow: 0px 1px 2px rgba(60, 64, 67, 0.3), 0px 1px 3px 1px rgba(60, 64, 67, 0.15);\n",
       "      fill: #174EA6;\n",
       "    }\n",
       "\n",
       "    .colab-df-buttons div {\n",
       "      margin-bottom: 4px;\n",
       "    }\n",
       "\n",
       "    [theme=dark] .colab-df-convert {\n",
       "      background-color: #3B4455;\n",
       "      fill: #D2E3FC;\n",
       "    }\n",
       "\n",
       "    [theme=dark] .colab-df-convert:hover {\n",
       "      background-color: #434B5C;\n",
       "      box-shadow: 0px 1px 3px 1px rgba(0, 0, 0, 0.15);\n",
       "      filter: drop-shadow(0px 1px 2px rgba(0, 0, 0, 0.3));\n",
       "      fill: #FFFFFF;\n",
       "    }\n",
       "  </style>\n",
       "\n",
       "    <script>\n",
       "      const buttonEl =\n",
       "        document.querySelector('#df-150f6dd6-4657-4c4a-b652-4ac24a7fa1f1 button.colab-df-convert');\n",
       "      buttonEl.style.display =\n",
       "        google.colab.kernel.accessAllowed ? 'block' : 'none';\n",
       "\n",
       "      async function convertToInteractive(key) {\n",
       "        const element = document.querySelector('#df-150f6dd6-4657-4c4a-b652-4ac24a7fa1f1');\n",
       "        const dataTable =\n",
       "          await google.colab.kernel.invokeFunction('convertToInteractive',\n",
       "                                                    [key], {});\n",
       "        if (!dataTable) return;\n",
       "\n",
       "        const docLinkHtml = 'Like what you see? Visit the ' +\n",
       "          '<a target=\"_blank\" href=https://colab.research.google.com/notebooks/data_table.ipynb>data table notebook</a>'\n",
       "          + ' to learn more about interactive tables.';\n",
       "        element.innerHTML = '';\n",
       "        dataTable['output_type'] = 'display_data';\n",
       "        await google.colab.output.renderOutput(dataTable, element);\n",
       "        const docLink = document.createElement('div');\n",
       "        docLink.innerHTML = docLinkHtml;\n",
       "        element.appendChild(docLink);\n",
       "      }\n",
       "    </script>\n",
       "  </div>\n",
       "\n",
       "\n",
       "<div id=\"df-92704305-63f6-4998-a343-78c90d4d9115\">\n",
       "  <button class=\"colab-df-quickchart\" onclick=\"quickchart('df-92704305-63f6-4998-a343-78c90d4d9115')\"\n",
       "            title=\"Suggest charts\"\n",
       "            style=\"display:none;\">\n",
       "\n",
       "<svg xmlns=\"http://www.w3.org/2000/svg\" height=\"24px\"viewBox=\"0 0 24 24\"\n",
       "     width=\"24px\">\n",
       "    <g>\n",
       "        <path d=\"M19 3H5c-1.1 0-2 .9-2 2v14c0 1.1.9 2 2 2h14c1.1 0 2-.9 2-2V5c0-1.1-.9-2-2-2zM9 17H7v-7h2v7zm4 0h-2V7h2v10zm4 0h-2v-4h2v4z\"/>\n",
       "    </g>\n",
       "</svg>\n",
       "  </button>\n",
       "\n",
       "<style>\n",
       "  .colab-df-quickchart {\n",
       "      --bg-color: #E8F0FE;\n",
       "      --fill-color: #1967D2;\n",
       "      --hover-bg-color: #E2EBFA;\n",
       "      --hover-fill-color: #174EA6;\n",
       "      --disabled-fill-color: #AAA;\n",
       "      --disabled-bg-color: #DDD;\n",
       "  }\n",
       "\n",
       "  [theme=dark] .colab-df-quickchart {\n",
       "      --bg-color: #3B4455;\n",
       "      --fill-color: #D2E3FC;\n",
       "      --hover-bg-color: #434B5C;\n",
       "      --hover-fill-color: #FFFFFF;\n",
       "      --disabled-bg-color: #3B4455;\n",
       "      --disabled-fill-color: #666;\n",
       "  }\n",
       "\n",
       "  .colab-df-quickchart {\n",
       "    background-color: var(--bg-color);\n",
       "    border: none;\n",
       "    border-radius: 50%;\n",
       "    cursor: pointer;\n",
       "    display: none;\n",
       "    fill: var(--fill-color);\n",
       "    height: 32px;\n",
       "    padding: 0;\n",
       "    width: 32px;\n",
       "  }\n",
       "\n",
       "  .colab-df-quickchart:hover {\n",
       "    background-color: var(--hover-bg-color);\n",
       "    box-shadow: 0 1px 2px rgba(60, 64, 67, 0.3), 0 1px 3px 1px rgba(60, 64, 67, 0.15);\n",
       "    fill: var(--button-hover-fill-color);\n",
       "  }\n",
       "\n",
       "  .colab-df-quickchart-complete:disabled,\n",
       "  .colab-df-quickchart-complete:disabled:hover {\n",
       "    background-color: var(--disabled-bg-color);\n",
       "    fill: var(--disabled-fill-color);\n",
       "    box-shadow: none;\n",
       "  }\n",
       "\n",
       "  .colab-df-spinner {\n",
       "    border: 2px solid var(--fill-color);\n",
       "    border-color: transparent;\n",
       "    border-bottom-color: var(--fill-color);\n",
       "    animation:\n",
       "      spin 1s steps(1) infinite;\n",
       "  }\n",
       "\n",
       "  @keyframes spin {\n",
       "    0% {\n",
       "      border-color: transparent;\n",
       "      border-bottom-color: var(--fill-color);\n",
       "      border-left-color: var(--fill-color);\n",
       "    }\n",
       "    20% {\n",
       "      border-color: transparent;\n",
       "      border-left-color: var(--fill-color);\n",
       "      border-top-color: var(--fill-color);\n",
       "    }\n",
       "    30% {\n",
       "      border-color: transparent;\n",
       "      border-left-color: var(--fill-color);\n",
       "      border-top-color: var(--fill-color);\n",
       "      border-right-color: var(--fill-color);\n",
       "    }\n",
       "    40% {\n",
       "      border-color: transparent;\n",
       "      border-right-color: var(--fill-color);\n",
       "      border-top-color: var(--fill-color);\n",
       "    }\n",
       "    60% {\n",
       "      border-color: transparent;\n",
       "      border-right-color: var(--fill-color);\n",
       "    }\n",
       "    80% {\n",
       "      border-color: transparent;\n",
       "      border-right-color: var(--fill-color);\n",
       "      border-bottom-color: var(--fill-color);\n",
       "    }\n",
       "    90% {\n",
       "      border-color: transparent;\n",
       "      border-bottom-color: var(--fill-color);\n",
       "    }\n",
       "  }\n",
       "</style>\n",
       "\n",
       "  <script>\n",
       "    async function quickchart(key) {\n",
       "      const quickchartButtonEl =\n",
       "        document.querySelector('#' + key + ' button');\n",
       "      quickchartButtonEl.disabled = true;  // To prevent multiple clicks.\n",
       "      quickchartButtonEl.classList.add('colab-df-spinner');\n",
       "      try {\n",
       "        const charts = await google.colab.kernel.invokeFunction(\n",
       "            'suggestCharts', [key], {});\n",
       "      } catch (error) {\n",
       "        console.error('Error during call to suggestCharts:', error);\n",
       "      }\n",
       "      quickchartButtonEl.classList.remove('colab-df-spinner');\n",
       "      quickchartButtonEl.classList.add('colab-df-quickchart-complete');\n",
       "    }\n",
       "    (() => {\n",
       "      let quickchartButtonEl =\n",
       "        document.querySelector('#df-92704305-63f6-4998-a343-78c90d4d9115 button');\n",
       "      quickchartButtonEl.style.display =\n",
       "        google.colab.kernel.accessAllowed ? 'block' : 'none';\n",
       "    })();\n",
       "  </script>\n",
       "</div>\n",
       "\n",
       "    </div>\n",
       "  </div>\n"
      ],
      "text/plain": [
       "   Age  Gender   AnnualIncome  NumberOfPurchases  ProductCategory  \\\n",
       "0   40       1   66120.267939                  8                0   \n",
       "1   20       1   23579.773583                  4                2   \n",
       "2   27       1  127821.306432                 11                2   \n",
       "3   24       1  137798.623120                 19                3   \n",
       "4   31       1   99300.964220                 19                1   \n",
       "\n",
       "   TimeSpentOnWebsite  LoyaltyProgram  DiscountsAvailed  PurchaseStatus  \n",
       "0           30.568601               0                 5               1  \n",
       "1           38.240097               0                 5               0  \n",
       "2           31.633212               1                 0               1  \n",
       "3           46.167059               0                 4               1  \n",
       "4           19.823592               0                 0               1  "
      ]
     },
     "execution_count": 7,
     "metadata": {},
     "output_type": "execute_result"
    }
   ],
   "source": [
    "# 데이터 샘플 확인\n",
    "data.head(5)"
   ]
  },
  {
   "cell_type": "code",
   "execution_count": null,
   "metadata": {
    "colab": {
     "base_uri": "https://localhost:8080/",
     "height": 300
    },
    "id": "4iYo-NUev-OZ",
    "outputId": "17103b2a-1ae2-4758-d856-305478416019"
   },
   "outputs": [
    {
     "data": {
      "application/vnd.google.colaboratory.intrinsic+json": {
       "summary": "{\n  \"name\": \"data\",\n  \"rows\": 8,\n  \"fields\": [\n    {\n      \"column\": \"Age\",\n      \"properties\": {\n        \"dtype\": \"number\",\n        \"std\": 516.4771747430611,\n        \"min\": 15.53725852557488,\n        \"max\": 1500.0,\n        \"num_unique_values\": 8,\n        \"samples\": [\n          44.29866666666667,\n          45.0,\n          1500.0\n        ],\n        \"semantic_type\": \"\",\n        \"description\": \"\"\n      }\n    },\n    {\n      \"column\": \"Gender\",\n      \"properties\": {\n        \"dtype\": \"number\",\n        \"std\": 530.1279758776858,\n        \"min\": 0.0,\n        \"max\": 1500.0,\n        \"num_unique_values\": 5,\n        \"samples\": [\n          0.5046666666666667,\n          1.0,\n          0.5001449645312042\n        ],\n        \"semantic_type\": \"\",\n        \"description\": \"\"\n      }\n    },\n    {\n      \"column\": \"AnnualIncome\",\n      \"properties\": {\n        \"dtype\": \"number\",\n        \"std\": 49983.18203000512,\n        \"min\": 1500.0,\n        \"max\": 149785.17648108344,\n        \"num_unique_values\": 8,\n        \"samples\": [\n          84249.16433824257,\n          83699.58147641507,\n          1500.0\n        ],\n        \"semantic_type\": \"\",\n        \"description\": \"\"\n      }\n    },\n    {\n      \"column\": \"NumberOfPurchases\",\n      \"properties\": {\n        \"dtype\": \"number\",\n        \"std\": 526.9667488141346,\n        \"min\": 0.0,\n        \"max\": 1500.0,\n        \"num_unique_values\": 8,\n        \"samples\": [\n          10.42,\n          11.0,\n          1500.0\n        ],\n        \"semantic_type\": \"\",\n        \"description\": \"\"\n      }\n    },\n    {\n      \"column\": \"ProductCategory\",\n      \"properties\": {\n        \"dtype\": \"number\",\n        \"std\": 529.6526161546208,\n        \"min\": 0.0,\n        \"max\": 1500.0,\n        \"num_unique_values\": 8,\n        \"samples\": [\n          2.0126666666666666,\n          2.0,\n          1500.0\n        ],\n        \"semantic_type\": \"\",\n        \"description\": \"\"\n      }\n    },\n    {\n      \"column\": \"TimeSpentOnWebsite\",\n      \"properties\": {\n        \"dtype\": \"number\",\n        \"std\": 520.5458769296304,\n        \"min\": 1.037023481078914,\n        \"max\": 1500.0,\n        \"num_unique_values\": 8,\n        \"samples\": [\n          30.469040226089582,\n          30.939516356857414,\n          1500.0\n        ],\n        \"semantic_type\": \"\",\n        \"description\": \"\"\n      }\n    },\n    {\n      \"column\": \"LoyaltyProgram\",\n      \"properties\": {\n        \"dtype\": \"number\",\n        \"std\": 530.1890388291644,\n        \"min\": 0.0,\n        \"max\": 1500.0,\n        \"num_unique_values\": 5,\n        \"samples\": [\n          0.32666666666666666,\n          1.0,\n          0.469150605260009\n        ],\n        \"semantic_type\": \"\",\n        \"description\": \"\"\n      }\n    },\n    {\n      \"column\": \"DiscountsAvailed\",\n      \"properties\": {\n        \"dtype\": \"number\",\n        \"std\": 529.460711443755,\n        \"min\": 0.0,\n        \"max\": 1500.0,\n        \"num_unique_values\": 8,\n        \"samples\": [\n          2.5553333333333335,\n          3.0,\n          1500.0\n        ],\n        \"semantic_type\": \"\",\n        \"description\": \"\"\n      }\n    },\n    {\n      \"column\": \"PurchaseStatus\",\n      \"properties\": {\n        \"dtype\": \"number\",\n        \"std\": 530.1823865439487,\n        \"min\": 0.0,\n        \"max\": 1500.0,\n        \"num_unique_values\": 5,\n        \"samples\": [\n          0.432,\n          1.0,\n          0.49551961931769417\n        ],\n        \"semantic_type\": \"\",\n        \"description\": \"\"\n      }\n    }\n  ]\n}",
       "type": "dataframe"
      },
      "text/html": [
       "\n",
       "  <div id=\"df-26eae9f1-4349-4678-a881-e2b822c76a94\" class=\"colab-df-container\">\n",
       "    <div>\n",
       "<style scoped>\n",
       "    .dataframe tbody tr th:only-of-type {\n",
       "        vertical-align: middle;\n",
       "    }\n",
       "\n",
       "    .dataframe tbody tr th {\n",
       "        vertical-align: top;\n",
       "    }\n",
       "\n",
       "    .dataframe thead th {\n",
       "        text-align: right;\n",
       "    }\n",
       "</style>\n",
       "<table border=\"1\" class=\"dataframe\">\n",
       "  <thead>\n",
       "    <tr style=\"text-align: right;\">\n",
       "      <th></th>\n",
       "      <th>Age</th>\n",
       "      <th>Gender</th>\n",
       "      <th>AnnualIncome</th>\n",
       "      <th>NumberOfPurchases</th>\n",
       "      <th>ProductCategory</th>\n",
       "      <th>TimeSpentOnWebsite</th>\n",
       "      <th>LoyaltyProgram</th>\n",
       "      <th>DiscountsAvailed</th>\n",
       "      <th>PurchaseStatus</th>\n",
       "    </tr>\n",
       "  </thead>\n",
       "  <tbody>\n",
       "    <tr>\n",
       "      <th>count</th>\n",
       "      <td>1500.000000</td>\n",
       "      <td>1500.000000</td>\n",
       "      <td>1500.000000</td>\n",
       "      <td>1500.000000</td>\n",
       "      <td>1500.000000</td>\n",
       "      <td>1500.000000</td>\n",
       "      <td>1500.000000</td>\n",
       "      <td>1500.000000</td>\n",
       "      <td>1500.00000</td>\n",
       "    </tr>\n",
       "    <tr>\n",
       "      <th>mean</th>\n",
       "      <td>44.298667</td>\n",
       "      <td>0.504667</td>\n",
       "      <td>84249.164338</td>\n",
       "      <td>10.420000</td>\n",
       "      <td>2.012667</td>\n",
       "      <td>30.469040</td>\n",
       "      <td>0.326667</td>\n",
       "      <td>2.555333</td>\n",
       "      <td>0.43200</td>\n",
       "    </tr>\n",
       "    <tr>\n",
       "      <th>std</th>\n",
       "      <td>15.537259</td>\n",
       "      <td>0.500145</td>\n",
       "      <td>37629.493078</td>\n",
       "      <td>5.887391</td>\n",
       "      <td>1.428005</td>\n",
       "      <td>16.984392</td>\n",
       "      <td>0.469151</td>\n",
       "      <td>1.705152</td>\n",
       "      <td>0.49552</td>\n",
       "    </tr>\n",
       "    <tr>\n",
       "      <th>min</th>\n",
       "      <td>18.000000</td>\n",
       "      <td>0.000000</td>\n",
       "      <td>20001.512518</td>\n",
       "      <td>0.000000</td>\n",
       "      <td>0.000000</td>\n",
       "      <td>1.037023</td>\n",
       "      <td>0.000000</td>\n",
       "      <td>0.000000</td>\n",
       "      <td>0.00000</td>\n",
       "    </tr>\n",
       "    <tr>\n",
       "      <th>25%</th>\n",
       "      <td>31.000000</td>\n",
       "      <td>0.000000</td>\n",
       "      <td>53028.979155</td>\n",
       "      <td>5.000000</td>\n",
       "      <td>1.000000</td>\n",
       "      <td>16.156700</td>\n",
       "      <td>0.000000</td>\n",
       "      <td>1.000000</td>\n",
       "      <td>0.00000</td>\n",
       "    </tr>\n",
       "    <tr>\n",
       "      <th>50%</th>\n",
       "      <td>45.000000</td>\n",
       "      <td>1.000000</td>\n",
       "      <td>83699.581476</td>\n",
       "      <td>11.000000</td>\n",
       "      <td>2.000000</td>\n",
       "      <td>30.939516</td>\n",
       "      <td>0.000000</td>\n",
       "      <td>3.000000</td>\n",
       "      <td>0.00000</td>\n",
       "    </tr>\n",
       "    <tr>\n",
       "      <th>75%</th>\n",
       "      <td>57.000000</td>\n",
       "      <td>1.000000</td>\n",
       "      <td>117167.772858</td>\n",
       "      <td>15.000000</td>\n",
       "      <td>3.000000</td>\n",
       "      <td>44.369863</td>\n",
       "      <td>1.000000</td>\n",
       "      <td>4.000000</td>\n",
       "      <td>1.00000</td>\n",
       "    </tr>\n",
       "    <tr>\n",
       "      <th>max</th>\n",
       "      <td>70.000000</td>\n",
       "      <td>1.000000</td>\n",
       "      <td>149785.176481</td>\n",
       "      <td>20.000000</td>\n",
       "      <td>4.000000</td>\n",
       "      <td>59.991105</td>\n",
       "      <td>1.000000</td>\n",
       "      <td>5.000000</td>\n",
       "      <td>1.00000</td>\n",
       "    </tr>\n",
       "  </tbody>\n",
       "</table>\n",
       "</div>\n",
       "    <div class=\"colab-df-buttons\">\n",
       "\n",
       "  <div class=\"colab-df-container\">\n",
       "    <button class=\"colab-df-convert\" onclick=\"convertToInteractive('df-26eae9f1-4349-4678-a881-e2b822c76a94')\"\n",
       "            title=\"Convert this dataframe to an interactive table.\"\n",
       "            style=\"display:none;\">\n",
       "\n",
       "  <svg xmlns=\"http://www.w3.org/2000/svg\" height=\"24px\" viewBox=\"0 -960 960 960\">\n",
       "    <path d=\"M120-120v-720h720v720H120Zm60-500h600v-160H180v160Zm220 220h160v-160H400v160Zm0 220h160v-160H400v160ZM180-400h160v-160H180v160Zm440 0h160v-160H620v160ZM180-180h160v-160H180v160Zm440 0h160v-160H620v160Z\"/>\n",
       "  </svg>\n",
       "    </button>\n",
       "\n",
       "  <style>\n",
       "    .colab-df-container {\n",
       "      display:flex;\n",
       "      gap: 12px;\n",
       "    }\n",
       "\n",
       "    .colab-df-convert {\n",
       "      background-color: #E8F0FE;\n",
       "      border: none;\n",
       "      border-radius: 50%;\n",
       "      cursor: pointer;\n",
       "      display: none;\n",
       "      fill: #1967D2;\n",
       "      height: 32px;\n",
       "      padding: 0 0 0 0;\n",
       "      width: 32px;\n",
       "    }\n",
       "\n",
       "    .colab-df-convert:hover {\n",
       "      background-color: #E2EBFA;\n",
       "      box-shadow: 0px 1px 2px rgba(60, 64, 67, 0.3), 0px 1px 3px 1px rgba(60, 64, 67, 0.15);\n",
       "      fill: #174EA6;\n",
       "    }\n",
       "\n",
       "    .colab-df-buttons div {\n",
       "      margin-bottom: 4px;\n",
       "    }\n",
       "\n",
       "    [theme=dark] .colab-df-convert {\n",
       "      background-color: #3B4455;\n",
       "      fill: #D2E3FC;\n",
       "    }\n",
       "\n",
       "    [theme=dark] .colab-df-convert:hover {\n",
       "      background-color: #434B5C;\n",
       "      box-shadow: 0px 1px 3px 1px rgba(0, 0, 0, 0.15);\n",
       "      filter: drop-shadow(0px 1px 2px rgba(0, 0, 0, 0.3));\n",
       "      fill: #FFFFFF;\n",
       "    }\n",
       "  </style>\n",
       "\n",
       "    <script>\n",
       "      const buttonEl =\n",
       "        document.querySelector('#df-26eae9f1-4349-4678-a881-e2b822c76a94 button.colab-df-convert');\n",
       "      buttonEl.style.display =\n",
       "        google.colab.kernel.accessAllowed ? 'block' : 'none';\n",
       "\n",
       "      async function convertToInteractive(key) {\n",
       "        const element = document.querySelector('#df-26eae9f1-4349-4678-a881-e2b822c76a94');\n",
       "        const dataTable =\n",
       "          await google.colab.kernel.invokeFunction('convertToInteractive',\n",
       "                                                    [key], {});\n",
       "        if (!dataTable) return;\n",
       "\n",
       "        const docLinkHtml = 'Like what you see? Visit the ' +\n",
       "          '<a target=\"_blank\" href=https://colab.research.google.com/notebooks/data_table.ipynb>data table notebook</a>'\n",
       "          + ' to learn more about interactive tables.';\n",
       "        element.innerHTML = '';\n",
       "        dataTable['output_type'] = 'display_data';\n",
       "        await google.colab.output.renderOutput(dataTable, element);\n",
       "        const docLink = document.createElement('div');\n",
       "        docLink.innerHTML = docLinkHtml;\n",
       "        element.appendChild(docLink);\n",
       "      }\n",
       "    </script>\n",
       "  </div>\n",
       "\n",
       "\n",
       "<div id=\"df-53ac5598-5636-47ca-adb5-e82ef9ef7d57\">\n",
       "  <button class=\"colab-df-quickchart\" onclick=\"quickchart('df-53ac5598-5636-47ca-adb5-e82ef9ef7d57')\"\n",
       "            title=\"Suggest charts\"\n",
       "            style=\"display:none;\">\n",
       "\n",
       "<svg xmlns=\"http://www.w3.org/2000/svg\" height=\"24px\"viewBox=\"0 0 24 24\"\n",
       "     width=\"24px\">\n",
       "    <g>\n",
       "        <path d=\"M19 3H5c-1.1 0-2 .9-2 2v14c0 1.1.9 2 2 2h14c1.1 0 2-.9 2-2V5c0-1.1-.9-2-2-2zM9 17H7v-7h2v7zm4 0h-2V7h2v10zm4 0h-2v-4h2v4z\"/>\n",
       "    </g>\n",
       "</svg>\n",
       "  </button>\n",
       "\n",
       "<style>\n",
       "  .colab-df-quickchart {\n",
       "      --bg-color: #E8F0FE;\n",
       "      --fill-color: #1967D2;\n",
       "      --hover-bg-color: #E2EBFA;\n",
       "      --hover-fill-color: #174EA6;\n",
       "      --disabled-fill-color: #AAA;\n",
       "      --disabled-bg-color: #DDD;\n",
       "  }\n",
       "\n",
       "  [theme=dark] .colab-df-quickchart {\n",
       "      --bg-color: #3B4455;\n",
       "      --fill-color: #D2E3FC;\n",
       "      --hover-bg-color: #434B5C;\n",
       "      --hover-fill-color: #FFFFFF;\n",
       "      --disabled-bg-color: #3B4455;\n",
       "      --disabled-fill-color: #666;\n",
       "  }\n",
       "\n",
       "  .colab-df-quickchart {\n",
       "    background-color: var(--bg-color);\n",
       "    border: none;\n",
       "    border-radius: 50%;\n",
       "    cursor: pointer;\n",
       "    display: none;\n",
       "    fill: var(--fill-color);\n",
       "    height: 32px;\n",
       "    padding: 0;\n",
       "    width: 32px;\n",
       "  }\n",
       "\n",
       "  .colab-df-quickchart:hover {\n",
       "    background-color: var(--hover-bg-color);\n",
       "    box-shadow: 0 1px 2px rgba(60, 64, 67, 0.3), 0 1px 3px 1px rgba(60, 64, 67, 0.15);\n",
       "    fill: var(--button-hover-fill-color);\n",
       "  }\n",
       "\n",
       "  .colab-df-quickchart-complete:disabled,\n",
       "  .colab-df-quickchart-complete:disabled:hover {\n",
       "    background-color: var(--disabled-bg-color);\n",
       "    fill: var(--disabled-fill-color);\n",
       "    box-shadow: none;\n",
       "  }\n",
       "\n",
       "  .colab-df-spinner {\n",
       "    border: 2px solid var(--fill-color);\n",
       "    border-color: transparent;\n",
       "    border-bottom-color: var(--fill-color);\n",
       "    animation:\n",
       "      spin 1s steps(1) infinite;\n",
       "  }\n",
       "\n",
       "  @keyframes spin {\n",
       "    0% {\n",
       "      border-color: transparent;\n",
       "      border-bottom-color: var(--fill-color);\n",
       "      border-left-color: var(--fill-color);\n",
       "    }\n",
       "    20% {\n",
       "      border-color: transparent;\n",
       "      border-left-color: var(--fill-color);\n",
       "      border-top-color: var(--fill-color);\n",
       "    }\n",
       "    30% {\n",
       "      border-color: transparent;\n",
       "      border-left-color: var(--fill-color);\n",
       "      border-top-color: var(--fill-color);\n",
       "      border-right-color: var(--fill-color);\n",
       "    }\n",
       "    40% {\n",
       "      border-color: transparent;\n",
       "      border-right-color: var(--fill-color);\n",
       "      border-top-color: var(--fill-color);\n",
       "    }\n",
       "    60% {\n",
       "      border-color: transparent;\n",
       "      border-right-color: var(--fill-color);\n",
       "    }\n",
       "    80% {\n",
       "      border-color: transparent;\n",
       "      border-right-color: var(--fill-color);\n",
       "      border-bottom-color: var(--fill-color);\n",
       "    }\n",
       "    90% {\n",
       "      border-color: transparent;\n",
       "      border-bottom-color: var(--fill-color);\n",
       "    }\n",
       "  }\n",
       "</style>\n",
       "\n",
       "  <script>\n",
       "    async function quickchart(key) {\n",
       "      const quickchartButtonEl =\n",
       "        document.querySelector('#' + key + ' button');\n",
       "      quickchartButtonEl.disabled = true;  // To prevent multiple clicks.\n",
       "      quickchartButtonEl.classList.add('colab-df-spinner');\n",
       "      try {\n",
       "        const charts = await google.colab.kernel.invokeFunction(\n",
       "            'suggestCharts', [key], {});\n",
       "      } catch (error) {\n",
       "        console.error('Error during call to suggestCharts:', error);\n",
       "      }\n",
       "      quickchartButtonEl.classList.remove('colab-df-spinner');\n",
       "      quickchartButtonEl.classList.add('colab-df-quickchart-complete');\n",
       "    }\n",
       "    (() => {\n",
       "      let quickchartButtonEl =\n",
       "        document.querySelector('#df-53ac5598-5636-47ca-adb5-e82ef9ef7d57 button');\n",
       "      quickchartButtonEl.style.display =\n",
       "        google.colab.kernel.accessAllowed ? 'block' : 'none';\n",
       "    })();\n",
       "  </script>\n",
       "</div>\n",
       "\n",
       "    </div>\n",
       "  </div>\n"
      ],
      "text/plain": [
       "               Age       Gender   AnnualIncome  NumberOfPurchases  \\\n",
       "count  1500.000000  1500.000000    1500.000000        1500.000000   \n",
       "mean     44.298667     0.504667   84249.164338          10.420000   \n",
       "std      15.537259     0.500145   37629.493078           5.887391   \n",
       "min      18.000000     0.000000   20001.512518           0.000000   \n",
       "25%      31.000000     0.000000   53028.979155           5.000000   \n",
       "50%      45.000000     1.000000   83699.581476          11.000000   \n",
       "75%      57.000000     1.000000  117167.772858          15.000000   \n",
       "max      70.000000     1.000000  149785.176481          20.000000   \n",
       "\n",
       "       ProductCategory  TimeSpentOnWebsite  LoyaltyProgram  DiscountsAvailed  \\\n",
       "count      1500.000000         1500.000000     1500.000000       1500.000000   \n",
       "mean          2.012667           30.469040        0.326667          2.555333   \n",
       "std           1.428005           16.984392        0.469151          1.705152   \n",
       "min           0.000000            1.037023        0.000000          0.000000   \n",
       "25%           1.000000           16.156700        0.000000          1.000000   \n",
       "50%           2.000000           30.939516        0.000000          3.000000   \n",
       "75%           3.000000           44.369863        1.000000          4.000000   \n",
       "max           4.000000           59.991105        1.000000          5.000000   \n",
       "\n",
       "       PurchaseStatus  \n",
       "count      1500.00000  \n",
       "mean          0.43200  \n",
       "std           0.49552  \n",
       "min           0.00000  \n",
       "25%           0.00000  \n",
       "50%           0.00000  \n",
       "75%           1.00000  \n",
       "max           1.00000  "
      ]
     },
     "execution_count": 8,
     "metadata": {},
     "output_type": "execute_result"
    }
   ],
   "source": [
    "# 데이터 기초통계 확인\n",
    "data.describe()"
   ]
  },
  {
   "cell_type": "code",
   "execution_count": null,
   "metadata": {
    "colab": {
     "base_uri": "https://localhost:8080/"
    },
    "id": "SDELOZGAv-Iy",
    "outputId": "1fcc9784-9c10-4afa-8ae9-44414fdbb231"
   },
   "outputs": [
    {
     "name": "stdout",
     "output_type": "stream",
     "text": [
      "Missing values in each column:\n",
      " Age                   0\n",
      "Gender                0\n",
      "AnnualIncome          0\n",
      "NumberOfPurchases     0\n",
      "ProductCategory       0\n",
      "TimeSpentOnWebsite    0\n",
      "LoyaltyProgram        0\n",
      "DiscountsAvailed      0\n",
      "PurchaseStatus        0\n",
      "dtype: int64\n"
     ]
    }
   ],
   "source": [
    "# 결측값 확인\n",
    "missing_values = data.isnull().sum()\n",
    "print(\"Missing values in each column:\\n\", missing_values)"
   ]
  },
  {
   "cell_type": "code",
   "execution_count": null,
   "metadata": {
    "id": "hNz3PfzZv-CE"
   },
   "outputs": [],
   "source": [
    "import numpy as np\n",
    "# 결측값 변환 함수\n",
    "def add_missing_values(df, col_name, missing_frac):\n",
    "    \"\"\"\n",
    "    특정 열에 지정된 비율의 결측값을 추가합니다.\n",
    "\n",
    "    :param df: 데이터프레임\n",
    "    :param col_name: 결측값을 추가할 열 이름\n",
    "    :param missing_frac: 결측값 비율 (0.0 ~ 1.0)\n",
    "    \"\"\"\n",
    "    np.random.seed(42)  # 재현성을 위해 랜덤 시드 설정\n",
    "    n_rows = df.shape[0] # 데이터프레임의 행 수\n",
    "    n_missing = int(n_rows * missing_frac) # 결측값을 추가할 행의 수를 계산\n",
    "\n",
    "    missing_indices = np.random.choice(n_rows, n_missing, replace=False) # 결측값을 추가할 행의 인덱스를 무작위로 선택\n",
    "    df.loc[missing_indices, col_name] = np.nan # 선택된 인덱스의 열 값을 NaN으로 설정"
   ]
  },
  {
   "cell_type": "code",
   "execution_count": null,
   "metadata": {
    "id": "Ldin-l45Sr38"
   },
   "outputs": [],
   "source": [
    "# 결측값 추가\n",
    "add_missing_values(data, 'Age', 0.1)  # Age 열에 10% 결측값 추가\n",
    "add_missing_values(data, 'Gender', 0.1)  # Gender 열에 10% 결측값 추가"
   ]
  },
  {
   "cell_type": "code",
   "execution_count": null,
   "metadata": {
    "colab": {
     "base_uri": "https://localhost:8080/"
    },
    "id": "sGNM_7iGSr1I",
    "outputId": "99b9a347-783d-4841-f5b7-bee3c759a921"
   },
   "outputs": [
    {
     "name": "stdout",
     "output_type": "stream",
     "text": [
      "Data with missing values:\n",
      "        Age  Gender   AnnualIncome  NumberOfPurchases  ProductCategory  \\\n",
      "1490   NaN     NaN   83126.660956                 20                3   \n",
      "1491   NaN     NaN   71611.955361                 20                1   \n",
      "1492  63.0     0.0   71874.591294                 10                2   \n",
      "1493  34.0     1.0   20418.374269                  9                1   \n",
      "1494  34.0     1.0  104649.186035                 14                1   \n",
      "1495  39.0     1.0   65048.141834                 13                0   \n",
      "1496  67.0     1.0   28775.331069                 18                2   \n",
      "1497  40.0     1.0   57363.247541                  7                4   \n",
      "1498  63.0     0.0  134021.775532                 16                2   \n",
      "1499  50.0     0.0   52625.665974                 13                0   \n",
      "\n",
      "      TimeSpentOnWebsite  LoyaltyProgram  DiscountsAvailed  PurchaseStatus  \n",
      "1490            2.280306               0                 1               0  \n",
      "1491           38.681686               0                 5               1  \n",
      "1492           43.546243               0                 1               0  \n",
      "1493           54.459955               0                 0               0  \n",
      "1494           28.998117               0                 1               0  \n",
      "1495           34.590743               0                 5               1  \n",
      "1496           17.625707               0                 1               1  \n",
      "1497           12.206033               0                 0               0  \n",
      "1498           37.311634               1                 0               1  \n",
      "1499           25.348017               1                 4               1  \n",
      "Missing values count:\n",
      " Age                   150\n",
      "Gender                150\n",
      "AnnualIncome            0\n",
      "NumberOfPurchases       0\n",
      "ProductCategory         0\n",
      "TimeSpentOnWebsite      0\n",
      "LoyaltyProgram          0\n",
      "DiscountsAvailed        0\n",
      "PurchaseStatus          0\n",
      "dtype: int64\n"
     ]
    }
   ],
   "source": [
    "# 결측값이 잘 추가되었는지 확인\n",
    "print(\"Data with missing values:\\n\", data.tail(10))\n",
    "print(\"Missing values count:\\n\", data.isnull().sum())"
   ]
  },
  {
   "cell_type": "code",
   "execution_count": null,
   "metadata": {
    "colab": {
     "base_uri": "https://localhost:8080/"
    },
    "id": "31ndFNugVJSE",
    "outputId": "6b1a7955-164b-4244-ac4e-08dd0ef72266"
   },
   "outputs": [
    {
     "data": {
      "text/plain": [
       "44.40444444444444"
      ]
     },
     "execution_count": 25,
     "metadata": {},
     "output_type": "execute_result"
    }
   ],
   "source": [
    "data['Age'].mean()"
   ]
  },
  {
   "cell_type": "code",
   "execution_count": null,
   "metadata": {
    "id": "6En5Q9HtSryl"
   },
   "outputs": [],
   "source": [
    "# 숫자 데이터 전처리 - 결측값 처리 (평균값으로 대체)\n",
    "data['Age'].fillna(data['Age'].mean(), inplace=True)"
   ]
  },
  {
   "cell_type": "code",
   "execution_count": null,
   "metadata": {
    "colab": {
     "base_uri": "https://localhost:8080/"
    },
    "id": "GhiEP8yNUqVF",
    "outputId": "62c812e8-1747-4193-a5a1-25e784bb7670"
   },
   "outputs": [
    {
     "name": "stdout",
     "output_type": "stream",
     "text": [
      "Missing values count:\n",
      " Age                     0\n",
      "Gender                150\n",
      "AnnualIncome            0\n",
      "NumberOfPurchases       0\n",
      "ProductCategory         0\n",
      "TimeSpentOnWebsite      0\n",
      "LoyaltyProgram          0\n",
      "DiscountsAvailed        0\n",
      "PurchaseStatus          0\n",
      "dtype: int64\n"
     ]
    }
   ],
   "source": [
    "print(\"Missing values count:\\n\", data.isnull().sum())"
   ]
  },
  {
   "cell_type": "code",
   "execution_count": null,
   "metadata": {
    "colab": {
     "base_uri": "https://localhost:8080/"
    },
    "id": "yOGnCnl-VCxV",
    "outputId": "ee814759-17b4-4676-9ea0-0d0285e21df2"
   },
   "outputs": [
    {
     "data": {
      "text/plain": [
       "0.0"
      ]
     },
     "execution_count": 24,
     "metadata": {},
     "output_type": "execute_result"
    }
   ],
   "source": [
    "data['Gender'].mode()[0]"
   ]
  },
  {
   "cell_type": "code",
   "execution_count": null,
   "metadata": {
    "id": "DDEZzDKMUY6U"
   },
   "outputs": [],
   "source": [
    "# 범주형 데이터 전처리 - 결측값 처리 (최빈값으로 대체)\n",
    "data['Gender'].fillna(data['Gender'].mode()[0], inplace=True)"
   ]
  },
  {
   "cell_type": "code",
   "execution_count": null,
   "metadata": {
    "colab": {
     "base_uri": "https://localhost:8080/"
    },
    "id": "UU2OiXhqUwkc",
    "outputId": "06cf8289-ba1c-4cb4-8515-d6f3f35f3a6b"
   },
   "outputs": [
    {
     "name": "stdout",
     "output_type": "stream",
     "text": [
      "Missing values count:\n",
      " Age                   0\n",
      "Gender                0\n",
      "AnnualIncome          0\n",
      "NumberOfPurchases     0\n",
      "ProductCategory       0\n",
      "TimeSpentOnWebsite    0\n",
      "LoyaltyProgram        0\n",
      "DiscountsAvailed      0\n",
      "PurchaseStatus        0\n",
      "dtype: int64\n"
     ]
    }
   ],
   "source": [
    "print(\"Missing values count:\\n\", data.isnull().sum())"
   ]
  },
  {
   "cell_type": "code",
   "execution_count": null,
   "metadata": {
    "colab": {
     "base_uri": "https://localhost:8080/"
    },
    "id": "SLpRd20XVNXo",
    "outputId": "29b10e36-a8c3-49f1-e3d7-fea23c276d67"
   },
   "outputs": [
    {
     "data": {
      "text/plain": [
       "0    1\n",
       "1    1\n",
       "2    1\n",
       "3    1\n",
       "4    1\n",
       "Name: Gender, dtype: int64"
      ]
     },
     "execution_count": 32,
     "metadata": {},
     "output_type": "execute_result"
    }
   ],
   "source": [
    "data['Gender'].head()"
   ]
  },
  {
   "cell_type": "code",
   "execution_count": null,
   "metadata": {
    "colab": {
     "base_uri": "https://localhost:8080/"
    },
    "id": "YGx9eiWiVa0D",
    "outputId": "981b0cf2-5573-4c28-e0e2-f09f2acbbd1a"
   },
   "outputs": [
    {
     "data": {
      "text/plain": [
       "0    Female\n",
       "1    Female\n",
       "2    Female\n",
       "3    Female\n",
       "4    Female\n",
       "Name: Gender, dtype: object"
      ]
     },
     "execution_count": 33,
     "metadata": {},
     "output_type": "execute_result"
    }
   ],
   "source": [
    "data['Gender'] = ['Male' if gender == 0 else 'Female' for gender in data['Gender']]\n",
    "data['Gender'].head()"
   ]
  },
  {
   "cell_type": "code",
   "execution_count": null,
   "metadata": {
    "id": "nIiVfCigUY3w"
   },
   "outputs": [],
   "source": [
    "# 범주형 데이터 인코딩 (레이블 인코딩)\n",
    "from sklearn.preprocessing import LabelEncoder\n",
    "le = LabelEncoder() # 객체 생성\n",
    "data['Gender'] = le.fit_transform(data['Gender']) # 레이블 인코딩 (Alphabetic)"
   ]
  },
  {
   "cell_type": "code",
   "execution_count": null,
   "metadata": {
    "colab": {
     "base_uri": "https://localhost:8080/"
    },
    "id": "2VaihQ1mVRbx",
    "outputId": "7670e562-c52a-4628-c1a6-2a043765385f"
   },
   "outputs": [
    {
     "data": {
      "text/plain": [
       "0    0\n",
       "1    0\n",
       "2    0\n",
       "3    0\n",
       "4    0\n",
       "Name: Gender, dtype: int64"
      ]
     },
     "execution_count": 35,
     "metadata": {},
     "output_type": "execute_result"
    }
   ],
   "source": [
    "data['Gender'].head()"
   ]
  },
  {
   "cell_type": "code",
   "execution_count": null,
   "metadata": {
    "colab": {
     "base_uri": "https://localhost:8080/"
    },
    "id": "vJDfvTW_chiG",
    "outputId": "0f70b9f1-6d17-4288-cfdf-fdd06f4d5088"
   },
   "outputs": [
    {
     "name": "stdout",
     "output_type": "stream",
     "text": [
      "Original Data:\n",
      "                 PurchaseTime               DeliveryTime\n",
      "0 2024-07-02 17:17:12.110397 2024-07-02 17:17:12.110397\n",
      "1 2024-07-01 17:17:12.110397 2024-07-03 17:17:12.110397\n",
      "2 2024-06-30 17:17:12.110397 2024-07-04 17:17:12.110397\n",
      "3 2024-06-29 17:17:12.110397 2024-07-05 17:17:12.110397\n",
      "4 2024-06-28 17:17:12.110397 2024-07-06 17:17:12.110397\n"
     ]
    }
   ],
   "source": [
    "import pandas as pd\n",
    "import numpy as np\n",
    "from datetime import datetime, timedelta\n",
    "\n",
    "# 현재 시간\n",
    "current_time = datetime.now()\n",
    "\n",
    "# 예시 데이터 생성\n",
    "time_data = pd.DataFrame({\n",
    "    'PurchaseTime': [current_time - timedelta(days=i) for i in range(5)],\n",
    "    'DeliveryTime': [current_time + timedelta(days=i) for i in range(5)]\n",
    "})\n",
    "\n",
    "print(\"Original Data:\\n\", time_data)\n"
   ]
  },
  {
   "cell_type": "code",
   "execution_count": null,
   "metadata": {
    "colab": {
     "base_uri": "https://localhost:8080/"
    },
    "id": "puvMecdQcjIt",
    "outputId": "bd6b5147-6067-4c96-d3d6-b67f7d56a84f"
   },
   "outputs": [
    {
     "name": "stdout",
     "output_type": "stream",
     "text": [
      "\n",
      "Data after extracting components and calculating differences:\n",
      "                 PurchaseTime               DeliveryTime  PurchaseYear  \\\n",
      "0 2024-07-02 17:17:12.110397 2024-07-02 17:17:12.110397          2024   \n",
      "1 2024-07-01 17:17:12.110397 2024-07-03 17:17:12.110397          2024   \n",
      "2 2024-06-30 17:17:12.110397 2024-07-04 17:17:12.110397          2024   \n",
      "3 2024-06-29 17:17:12.110397 2024-07-05 17:17:12.110397          2024   \n",
      "4 2024-06-28 17:17:12.110397 2024-07-06 17:17:12.110397          2024   \n",
      "\n",
      "   PurchaseMonth  PurchaseDay  PurchaseHour  PurchaseMinute  PurchaseSecond  \\\n",
      "0              7            2            17              17              12   \n",
      "1              7            1            17              17              12   \n",
      "2              6           30            17              17              12   \n",
      "3              6           29            17              17              12   \n",
      "4              6           28            17              17              12   \n",
      "\n",
      "   DeliveryDays  \n",
      "0             0  \n",
      "1             2  \n",
      "2             4  \n",
      "3             6  \n",
      "4             8  \n"
     ]
    }
   ],
   "source": [
    "# 시간 데이터를 datetime 형식으로 변환 (이미 datetime)\n",
    "time_data['PurchaseTime'] = pd.to_datetime(time_data['PurchaseTime'])\n",
    "time_data['DeliveryTime'] = pd.to_datetime(time_data['DeliveryTime'])\n",
    "\n",
    "# 시간 컴포넌트 추출\n",
    "time_data['PurchaseYear'] = time_data['PurchaseTime'].dt.year\n",
    "time_data['PurchaseMonth'] = time_data['PurchaseTime'].dt.month\n",
    "time_data['PurchaseDay'] = time_data['PurchaseTime'].dt.day\n",
    "time_data['PurchaseHour'] = time_data['PurchaseTime'].dt.hour\n",
    "time_data['PurchaseMinute'] = time_data['PurchaseTime'].dt.minute\n",
    "time_data['PurchaseSecond'] = time_data['PurchaseTime'].dt.second\n",
    "\n",
    "# 시간 차이 계산\n",
    "time_data['DeliveryDays'] = (time_data['DeliveryTime'] - time_data['PurchaseTime']).dt.days\n",
    "\n",
    "print(\"\\nData after extracting components and calculating differences:\\n\", time_data)\n"
   ]
  },
  {
   "cell_type": "code",
   "execution_count": null,
   "metadata": {
    "colab": {
     "base_uri": "https://localhost:8080/"
    },
    "id": "HId_mqaDUY1a",
    "outputId": "da1cb057-c53b-45f6-f97f-160a3360aee4"
   },
   "outputs": [
    {
     "name": "stdout",
     "output_type": "stream",
     "text": [
      "Data before scaling:\n",
      "    Age   AnnualIncome\n",
      "0   40   66120.267939\n",
      "1   20   23579.773583\n",
      "2   27  127821.306432\n",
      "3   24  137798.623120\n",
      "4   31   99300.964220\n",
      "Data after scaling:\n",
      "         Age  AnnualIncome\n",
      "0 -0.276761     -0.481934\n",
      "1 -1.564418     -1.612821\n",
      "2 -1.113738      1.158311\n",
      "3 -1.306887      1.423546\n",
      "4 -0.856207      0.400133\n"
     ]
    }
   ],
   "source": [
    "# 데이터 스케일링\n",
    "from sklearn.preprocessing import StandardScaler # standardize\n",
    "print(\"Data before scaling:\\n\", data[['Age', 'AnnualIncome']].head())\n",
    "\n",
    "scaler = StandardScaler() # 객체 생성\n",
    "data[['Age', 'AnnualIncome']] = scaler.fit_transform(data[['Age', 'AnnualIncome']]) # 스케일링\n",
    "\n",
    "print(\"Data after scaling:\\n\", data[['Age', 'AnnualIncome']].head())"
   ]
  },
  {
   "cell_type": "code",
   "execution_count": null,
   "metadata": {
    "colab": {
     "base_uri": "https://localhost:8080/"
    },
    "id": "UcnayvCNX4Sq",
    "outputId": "cac8de5a-7c9a-4768-e442-59f9cc1a0530"
   },
   "outputs": [
    {
     "name": "stdout",
     "output_type": "stream",
     "text": [
      "Original table:\n",
      "    Age  Gender   AnnualIncome  NumberOfPurchases  ProductCategory  \\\n",
      "0   40       1   66120.267939                  8                0   \n",
      "1   20       1   23579.773583                  4                2   \n",
      "2   27       1  127821.306432                 11                2   \n",
      "3   24       1  137798.623120                 19                3   \n",
      "4   31       1   99300.964220                 19                1   \n",
      "\n",
      "   TimeSpentOnWebsite  LoyaltyProgram  DiscountsAvailed  PurchaseStatus  \n",
      "0           30.568601               0                 5               1  \n",
      "1           38.240097               0                 5               0  \n",
      "2           31.633212               1                 0               1  \n",
      "3           46.167059               0                 4               1  \n",
      "4           19.823592               0                 0               1  \n",
      "Pivot table:\n",
      " PurchaseStatus              0             1\n",
      "ProductCategory                            \n",
      "0                77597.479810  93453.377903\n",
      "1                74512.271133  88548.355971\n",
      "2                82333.195812  92168.980060\n",
      "3                75704.897322  92852.226853\n",
      "4                80332.079310  95379.372768\n"
     ]
    }
   ],
   "source": [
    "print(\"Original table:\\n\", data.head())\n",
    "# 데이터 피벗\n",
    "pivot_table = data.pivot_table(values='AnnualIncome', index='ProductCategory', columns='PurchaseStatus', aggfunc='mean') # aggfunc: 집계함수\n",
    "print(\"Pivot table:\\n\", pivot_table.head())"
   ]
  },
  {
   "cell_type": "code",
   "execution_count": null,
   "metadata": {
    "colab": {
     "base_uri": "https://localhost:8080/"
    },
    "id": "S_xwCHXQUYzF",
    "outputId": "874387a3-c285-4502-9597-a8ccba6a786f"
   },
   "outputs": [
    {
     "name": "stdout",
     "output_type": "stream",
     "text": [
      "Original data_1:\n",
      "    Age  PurchaseStatus   AnnualIncome\n",
      "0   40               1   66120.267939\n",
      "1   20               0   23579.773583\n",
      "2   27               1  127821.306432\n",
      "3   24               1  137798.623120\n",
      "4   31               1   99300.964220\n",
      "Original data_2:\n",
      "    Gender   AnnualIncome\n",
      "0       1   66120.267939\n",
      "1       1   23579.773583\n",
      "2       1  127821.306432\n",
      "3       1  137798.623120\n",
      "4       1   99300.964220\n",
      "Merged data:\n",
      "    Age  PurchaseStatus   AnnualIncome  Gender\n",
      "0   40               1   66120.267939       1\n",
      "1   20               0   23579.773583       1\n",
      "2   27               1  127821.306432       1\n",
      "3   24               1  137798.623120       1\n",
      "4   31               1   99300.964220       1\n"
     ]
    }
   ],
   "source": [
    "# 데이터 합치기\n",
    "# 예제 데이터프레임 생성\n",
    "data_1 = data[['Age', 'PurchaseStatus', 'AnnualIncome']]\n",
    "# data_1 데이터 형태\n",
    "print(\"Original data_1:\\n\", data_1.head())\n",
    "data_2 = data[['Gender', 'AnnualIncome']]\n",
    "# data_2 데이터 형태\n",
    "print(\"Original data_2:\\n\", data_2.head())\n",
    "merged_data = pd.merge(data_1, data_2, on='AnnualIncome')\n",
    "print(\"Merged data:\\n\", merged_data.head())"
   ]
  },
  {
   "cell_type": "code",
   "execution_count": null,
   "metadata": {
    "colab": {
     "base_uri": "https://localhost:8080/"
    },
    "id": "ij8FmmoOYb1n",
    "outputId": "637400db-9296-48f5-cf72-d6b3771bfcac"
   },
   "outputs": [
    {
     "name": "stdout",
     "output_type": "stream",
     "text": [
      "Grouped data:\n",
      "         AnnualIncome        Age\n",
      "Gender                         \n",
      "0       83867.431189  43.952894\n",
      "1       84623.837693  44.638045\n"
     ]
    }
   ],
   "source": [
    "# 데이터 그룹화\n",
    "grouped_data = data.groupby('Gender').agg({'AnnualIncome': 'mean', 'Age': 'mean'})\n",
    "print(\"Grouped data:\\n\", grouped_data)"
   ]
  },
  {
   "cell_type": "code",
   "execution_count": null,
   "metadata": {
    "colab": {
     "base_uri": "https://localhost:8080/"
    },
    "id": "1kiEfEQNUYwQ",
    "outputId": "a10136dd-2577-4699-c53c-38a849e11875"
   },
   "outputs": [
    {
     "name": "stdout",
     "output_type": "stream",
     "text": [
      "Data with AgeGroup:\n",
      "    Age     AgeGroup\n",
      "0   40        Adult\n",
      "1   20  Young Adult\n",
      "2   27  Young Adult\n",
      "3   24  Young Adult\n",
      "4   31  Young Adult\n"
     ]
    }
   ],
   "source": [
    "# 파생 변수 생성\n",
    "data['AgeGroup'] = pd.cut(data['Age'], bins=[0, 18, 35, 50, 100], labels=['Child', 'Young Adult', 'Adult', 'Senior'])\n",
    "print(\"Data with AgeGroup:\\n\", data[['Age', 'AgeGroup']].head())"
   ]
  },
  {
   "cell_type": "code",
   "execution_count": null,
   "metadata": {
    "colab": {
     "base_uri": "https://localhost:8080/"
    },
    "id": "kzRSAdUuY0qE",
    "outputId": "7a8f2931-8230-4b12-aa42-9dfafcff0744"
   },
   "outputs": [
    {
     "name": "stdout",
     "output_type": "stream",
     "text": [
      "Sampled data:\n",
      "       Age  Gender  AnnualIncome  NumberOfPurchases  ProductCategory  \\\n",
      "1116   42       1  68609.736112                 12                3   \n",
      "1368   63       0  85623.427780                 18                0   \n",
      "422    22       1  51251.858676                  4                1   \n",
      "413    39       1  32791.434463                 18                2   \n",
      "451    39       1  75573.659430                 12                4   \n",
      "\n",
      "      TimeSpentOnWebsite  LoyaltyProgram  DiscountsAvailed  PurchaseStatus  \\\n",
      "1116           23.396362               1                 5               1   \n",
      "1368           11.657565               0                 1               0   \n",
      "422            46.090844               0                 0               0   \n",
      "413             1.137081               0                 1               0   \n",
      "451            49.085904               1                 3               1   \n",
      "\n",
      "         AgeGroup  \n",
      "1116        Adult  \n",
      "1368       Senior  \n",
      "422   Young Adult  \n",
      "413         Adult  \n",
      "451         Adult  \n",
      "******************************\n",
      "<class 'pandas.core.frame.DataFrame'>\n",
      "Index: 150 entries, 1116 to 782\n",
      "Data columns (total 10 columns):\n",
      " #   Column              Non-Null Count  Dtype   \n",
      "---  ------              --------------  -----   \n",
      " 0   Age                 150 non-null    int64   \n",
      " 1   Gender              150 non-null    int64   \n",
      " 2   AnnualIncome        150 non-null    float64 \n",
      " 3   NumberOfPurchases   150 non-null    int64   \n",
      " 4   ProductCategory     150 non-null    int64   \n",
      " 5   TimeSpentOnWebsite  150 non-null    float64 \n",
      " 6   LoyaltyProgram      150 non-null    int64   \n",
      " 7   DiscountsAvailed    150 non-null    int64   \n",
      " 8   PurchaseStatus      150 non-null    int64   \n",
      " 9   AgeGroup            150 non-null    category\n",
      "dtypes: category(1), float64(2), int64(7)\n",
      "memory usage: 12.1 KB\n",
      "Sampled data info:\n",
      " None\n"
     ]
    }
   ],
   "source": [
    "# 데이터 샘플링\n",
    "sampled_data = data.sample(frac=0.1, random_state=42)\n",
    "print(\"Sampled data:\\n\", sampled_data.head())\n",
    "print(\"*\"*30)\n",
    "print(\"Sampled data info:\\n\", sampled_data.info())"
   ]
  },
  {
   "cell_type": "code",
   "execution_count": null,
   "metadata": {
    "colab": {
     "base_uri": "https://localhost:8080/"
    },
    "id": "jHUaEe4uY0ig",
    "outputId": "58b1026b-a92b-44fc-a3a8-d4d4df6d1835"
   },
   "outputs": [
    {
     "name": "stdout",
     "output_type": "stream",
     "text": [
      "PCA Result:\n",
      "                PC1        PC2\n",
      "0    -18128.896428   4.133498\n",
      "1    -60669.390919  23.773262\n",
      "2     43572.141975  17.601737\n",
      "3     53549.458643  20.806253\n",
      "4     15051.799792  13.546052\n",
      "...            ...        ...\n",
      "1495 -19201.022540   5.211860\n",
      "1496 -55473.833114 -22.944368\n",
      "1497 -26885.916826   4.056919\n",
      "1498  49772.611320 -18.265106\n",
      "1499 -31623.498324  -5.870815\n",
      "\n",
      "[1500 rows x 2 columns]\n"
     ]
    }
   ],
   "source": [
    "# PCA (주성분 분석)\n",
    "from sklearn.decomposition import PCA\n",
    "\n",
    "# PCA 적용\n",
    "pca = PCA(n_components=2)\n",
    "pca_result = pca.fit_transform(data[['Age', 'AnnualIncome', 'NumberOfPurchases']])\n",
    "\n",
    "# 결과를 데이터프레임으로 변환\n",
    "pca_df = pd.DataFrame(pca_result, columns=['PC1', 'PC2'])\n",
    "\n",
    "print(\"PCA Result:\\n\", pca_df.head())"
   ]
  },
  {
   "cell_type": "code",
   "execution_count": null,
   "metadata": {
    "colab": {
     "base_uri": "https://localhost:8080/"
    },
    "id": "gA8hdza1UYuM",
    "outputId": "2bf1cd2d-b56d-4cd6-f204-b0d61226d3bd"
   },
   "outputs": [
    {
     "name": "stdout",
     "output_type": "stream",
     "text": [
      "Processed Data:\n",
      "         Age  AnnualIncome  NumberOfPurchases\n",
      "0 -0.276761     -0.481934          -0.411185\n",
      "1 -1.564418     -1.612821          -1.090830\n",
      "2 -1.113738      1.158311           0.098548\n",
      "3 -1.306887      1.423546           1.457838\n",
      "4 -0.856207      0.400133           1.457838\n"
     ]
    }
   ],
   "source": [
    "# 전처리 작업의 자동화 (파이프라인 구축)\n",
    "from sklearn.pipeline import Pipeline  # 파이프라인 구축을 위한 클래스\n",
    "from sklearn.impute import SimpleImputer  # 결측값 처리\n",
    "from sklearn.preprocessing import StandardScaler  # 데이터 스케일링\n",
    "\n",
    "# 예제를 위한 데이터 분리\n",
    "data_1 = data[['Age', 'AnnualIncome', 'NumberOfPurchases']]\n",
    "\n",
    "# 파이프라인 구축\n",
    "pipeline = Pipeline([\n",
    "    ('imputer', SimpleImputer(strategy='mean')),  # 결측값 대체\n",
    "    ('scaler', StandardScaler())  # 데이터 스케일링\n",
    "])\n",
    "\n",
    "# 데이터 변환\n",
    "processed_data = pipeline.fit_transform(data_1)\n",
    "\n",
    "# 결과를 데이터프레임으로 변환\n",
    "processed_data_df = pd.DataFrame(processed_data, columns=['Age', 'AnnualIncome', 'NumberOfPurchases'])\n",
    "\n",
    "print(\"Processed Data:\\n\", processed_data_df.head())"
   ]
  },
  {
   "cell_type": "code",
   "execution_count": null,
   "metadata": {
    "id": "TuUVUwSWUYpd"
   },
   "outputs": [],
   "source": []
  }
 ],
 "metadata": {
  "colab": {
   "provenance": []
  },
  "kernelspec": {
   "display_name": "Python 3 (ipykernel)",
   "language": "python",
   "name": "python3"
  },
  "language_info": {
   "codemirror_mode": {
    "name": "ipython",
    "version": 3
   },
   "file_extension": ".py",
   "mimetype": "text/x-python",
   "name": "python",
   "nbconvert_exporter": "python",
   "pygments_lexer": "ipython3",
   "version": "3.12.4"
  }
 },
 "nbformat": 4,
 "nbformat_minor": 4
}
