{
  "nbformat": 4,
  "nbformat_minor": 0,
  "metadata": {
    "colab": {
      "provenance": []
    },
    "kernelspec": {
      "name": "python3",
      "display_name": "Python 3"
    },
    "language_info": {
      "name": "python"
    }
  },
  "cells": [
    {
      "cell_type": "markdown",
      "source": [
        "# 실습 과제\n",
        "### 과제 1: 회귀 분석\n",
        "목표: 특정 변수에 대한 선형 회귀 모델을 구축하고 평가합니다.\n",
        "\n",
        "데이터셋: California Housing dataset을 사용합니다.\n",
        "\n",
        "내용:\n",
        "1. 데이터를 불러오고, 독립 변수(X)와 종속 변수(y)를 설정합니다.\n",
        "2. 훈련 데이터와 테스트 데이터로 분할합니다.\n",
        "3. 선형 회귀 모델을 학습시키고, 테스트 데이터에 대해 예측합니다.\n",
        "4. 예측 결과를 평가하고, MSE와 R^2 점수를 계산합니다.\n",
        "5. 실제 값과 예측 값을 시각화합니다."
      ],
      "metadata": {
        "id": "6wnBQCv2lzVL"
      }
    },
    {
      "cell_type": "code",
      "source": [
        "from sklearn.datasets import fetch_california_housing"
      ],
      "metadata": {
        "id": "jSMmnOqZBEEg"
      },
      "execution_count": null,
      "outputs": []
    },
    {
      "cell_type": "code",
      "execution_count": null,
      "metadata": {
        "id": "pCKMGodolp5z"
      },
      "outputs": [],
      "source": [
        "# 데이터 로드\n",
        "california = fetch_california_housing()\n",
        "\n",
        "\n",
        "# 데이터 분할\n",
        "\n",
        "# 모델 학습\n",
        "\n",
        "# 예측\n",
        "\n",
        "# 평가"
      ]
    },
    {
      "cell_type": "code",
      "source": [
        "# 시각화"
      ],
      "metadata": {
        "id": "b4wAPeYVp6hX"
      },
      "execution_count": null,
      "outputs": []
    },
    {
      "cell_type": "markdown",
      "source": [
        "### 과제 2: 분류 분석\n",
        "목표: 특정 데이터에 대한 나이브 베이즈 분류 모델을 구축하고 평가합니다.\n",
        "\n",
        "데이터셋: Wine dataset을 사용합니다.\n",
        "\n",
        "내용:\n",
        "1. 데이터를 불러오고, 독립 변수(X)와 종속 변수(y)를 설정합니다.\n",
        "2. 훈련 데이터와 테스트 데이터로 분할합니다.\n",
        "3. 나이브 베이즈 모델을 학습시키고, 테스트 데이터에 대해 예측합니다.\n",
        "4. 예측 결과를 평가하고, 정확도와 혼동 행렬을 계산합니다.\n",
        "5. 혼동 행렬을 시각화합니다.\n"
      ],
      "metadata": {
        "id": "_v0sQgehmEko"
      }
    },
    {
      "cell_type": "code",
      "source": [
        "from sklearn.datasets import load_wine"
      ],
      "metadata": {
        "id": "LQ9DT-SgAz-Z"
      },
      "execution_count": null,
      "outputs": []
    },
    {
      "cell_type": "code",
      "source": [
        "# 데이터 로드\n",
        "wine = load_wine()\n",
        "X = wine.data\n",
        "y = wine.target\n",
        "\n",
        "# 데이터 분할\n",
        "\n",
        "# 모델 학습\n",
        "\n",
        "\n",
        "# 예측\n",
        "\n",
        "# 평가\n"
      ],
      "metadata": {
        "id": "XpfcanjvmEza"
      },
      "execution_count": null,
      "outputs": []
    },
    {
      "cell_type": "code",
      "source": [
        "# 시각화"
      ],
      "metadata": {
        "id": "8dWUuTJHqIIf"
      },
      "execution_count": null,
      "outputs": []
    },
    {
      "cell_type": "markdown",
      "source": [
        "###과제 3: 교차 검증\n",
        "\n",
        "목표: 데이터에 대해 교차 검증을 수행하여 모델 성능을 평가합니다.\n",
        "\n",
        "데이터셋: Diabetes dataset을 사용합니다.\n",
        "\n",
        "내용:\n",
        "1. 데이터를 불러오고, 독립 변수(X)와 종속 변수(y)를 설정합니다.\n",
        "2. 나이브 베이즈 모델을 사용하여 5-겹 교차 검증을 수행합니다.\n",
        "3. 교차 검증 점수를 출력하고 평균 점수를 계산합니다.\n",
        "4. 교차 검증 결과를 시각화합니다.\n"
      ],
      "metadata": {
        "id": "FAUCaz9DmE-1"
      }
    },
    {
      "cell_type": "code",
      "source": [
        "from sklearn.datasets import load_diabetes"
      ],
      "metadata": {
        "id": "o2mueI-HAvTl"
      },
      "execution_count": null,
      "outputs": []
    },
    {
      "cell_type": "code",
      "source": [
        "# 데이터 로드\n",
        "diabetes = load_diabetes()\n",
        "X = diabetes.data\n",
        "y = diabetes.target\n",
        "\n",
        "# 모델 생성\n",
        "\n",
        "# 교차 검증\n"
      ],
      "metadata": {
        "collapsed": true,
        "id": "W6t_wwF1mFbh"
      },
      "execution_count": null,
      "outputs": []
    },
    {
      "cell_type": "code",
      "source": [
        "# 시각화"
      ],
      "metadata": {
        "id": "ggAHSIwCqfeL"
      },
      "execution_count": null,
      "outputs": []
    }
  ]
}