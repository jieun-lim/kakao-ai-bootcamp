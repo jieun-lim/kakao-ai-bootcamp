{
 "cells": [
  {
   "cell_type": "markdown",
   "id": "11cc90da-7f0d-4c02-a2aa-4df52810b815",
   "metadata": {},
   "source": [
    "# 0. 라이브러리 설치"
   ]
  },
  {
   "cell_type": "code",
   "execution_count": null,
   "id": "683287ff-0450-4cf8-abd4-fc76c242aff8",
   "metadata": {},
   "outputs": [],
   "source": [
    "! pip install seaborn matplotlib pandas"
   ]
  },
  {
   "cell_type": "markdown",
   "id": "d08b5c5f-221c-4708-b7fb-e50e1d4ab367",
   "metadata": {},
   "source": [
    "## 1. read csv into dataframe"
   ]
  },
  {
   "cell_type": "code",
   "execution_count": 209,
   "id": "f27ac5bf-b4de-4019-b62b-a8d04cc8dae3",
   "metadata": {},
   "outputs": [],
   "source": [
    "import pandas as pd\n",
    "import matplotlib.pyplot as plt\n",
    "import seaborn as sns"
   ]
  },
  {
   "cell_type": "code",
   "execution_count": 211,
   "id": "d5e81be3-3f68-4b2f-a2ee-3e003a4e1771",
   "metadata": {},
   "outputs": [],
   "source": [
    "df = pd.read_csv('./data/iris.csv')"
   ]
  },
  {
   "cell_type": "markdown",
   "id": "6671fbbf-7e53-483b-b4b3-5f7a18da694b",
   "metadata": {},
   "source": [
    "## 2. 데이터의 기초 통계를 확인하고, 결측값이나 이상치를 처리합니다. "
   ]
  },
  {
   "cell_type": "markdown",
   "id": "ef111790-5eb8-4c8a-999a-642741126c91",
   "metadata": {},
   "source": [
    "### 기초 통계 "
   ]
  },
  {
   "cell_type": "code",
   "execution_count": 215,
   "id": "fabd5986-0d85-4196-8217-ee65806f4edd",
   "metadata": {},
   "outputs": [
    {
     "data": {
      "text/html": [
       "<div>\n",
       "<style scoped>\n",
       "    .dataframe tbody tr th:only-of-type {\n",
       "        vertical-align: middle;\n",
       "    }\n",
       "\n",
       "    .dataframe tbody tr th {\n",
       "        vertical-align: top;\n",
       "    }\n",
       "\n",
       "    .dataframe thead th {\n",
       "        text-align: right;\n",
       "    }\n",
       "</style>\n",
       "<table border=\"1\" class=\"dataframe\">\n",
       "  <thead>\n",
       "    <tr style=\"text-align: right;\">\n",
       "      <th></th>\n",
       "      <th>sepal.length</th>\n",
       "      <th>sepal.width</th>\n",
       "      <th>petal.length</th>\n",
       "      <th>petal.width</th>\n",
       "    </tr>\n",
       "  </thead>\n",
       "  <tbody>\n",
       "    <tr>\n",
       "      <th>count</th>\n",
       "      <td>150.000000</td>\n",
       "      <td>150.000000</td>\n",
       "      <td>150.000000</td>\n",
       "      <td>150.000000</td>\n",
       "    </tr>\n",
       "    <tr>\n",
       "      <th>mean</th>\n",
       "      <td>5.843333</td>\n",
       "      <td>3.057333</td>\n",
       "      <td>3.758000</td>\n",
       "      <td>1.199333</td>\n",
       "    </tr>\n",
       "    <tr>\n",
       "      <th>std</th>\n",
       "      <td>0.828066</td>\n",
       "      <td>0.435866</td>\n",
       "      <td>1.765298</td>\n",
       "      <td>0.762238</td>\n",
       "    </tr>\n",
       "    <tr>\n",
       "      <th>min</th>\n",
       "      <td>4.300000</td>\n",
       "      <td>2.000000</td>\n",
       "      <td>1.000000</td>\n",
       "      <td>0.100000</td>\n",
       "    </tr>\n",
       "    <tr>\n",
       "      <th>25%</th>\n",
       "      <td>5.100000</td>\n",
       "      <td>2.800000</td>\n",
       "      <td>1.600000</td>\n",
       "      <td>0.300000</td>\n",
       "    </tr>\n",
       "    <tr>\n",
       "      <th>50%</th>\n",
       "      <td>5.800000</td>\n",
       "      <td>3.000000</td>\n",
       "      <td>4.350000</td>\n",
       "      <td>1.300000</td>\n",
       "    </tr>\n",
       "    <tr>\n",
       "      <th>75%</th>\n",
       "      <td>6.400000</td>\n",
       "      <td>3.300000</td>\n",
       "      <td>5.100000</td>\n",
       "      <td>1.800000</td>\n",
       "    </tr>\n",
       "    <tr>\n",
       "      <th>max</th>\n",
       "      <td>7.900000</td>\n",
       "      <td>4.400000</td>\n",
       "      <td>6.900000</td>\n",
       "      <td>2.500000</td>\n",
       "    </tr>\n",
       "  </tbody>\n",
       "</table>\n",
       "</div>"
      ],
      "text/plain": [
       "       sepal.length  sepal.width  petal.length  petal.width\n",
       "count    150.000000   150.000000    150.000000   150.000000\n",
       "mean       5.843333     3.057333      3.758000     1.199333\n",
       "std        0.828066     0.435866      1.765298     0.762238\n",
       "min        4.300000     2.000000      1.000000     0.100000\n",
       "25%        5.100000     2.800000      1.600000     0.300000\n",
       "50%        5.800000     3.000000      4.350000     1.300000\n",
       "75%        6.400000     3.300000      5.100000     1.800000\n",
       "max        7.900000     4.400000      6.900000     2.500000"
      ]
     },
     "execution_count": 215,
     "metadata": {},
     "output_type": "execute_result"
    }
   ],
   "source": [
    "df.describe()"
   ]
  },
  {
   "cell_type": "markdown",
   "id": "66f81e41-9160-42ac-9f63-dbf4af79809e",
   "metadata": {},
   "source": [
    "### 결측치 확인"
   ]
  },
  {
   "cell_type": "code",
   "execution_count": 218,
   "id": "922aa67b-6da3-4be2-984a-8c4c21dfa362",
   "metadata": {},
   "outputs": [
    {
     "data": {
      "text/html": [
       "<div>\n",
       "<style scoped>\n",
       "    .dataframe tbody tr th:only-of-type {\n",
       "        vertical-align: middle;\n",
       "    }\n",
       "\n",
       "    .dataframe tbody tr th {\n",
       "        vertical-align: top;\n",
       "    }\n",
       "\n",
       "    .dataframe thead th {\n",
       "        text-align: right;\n",
       "    }\n",
       "</style>\n",
       "<table border=\"1\" class=\"dataframe\">\n",
       "  <thead>\n",
       "    <tr style=\"text-align: right;\">\n",
       "      <th></th>\n",
       "      <th>sepal.length</th>\n",
       "      <th>sepal.width</th>\n",
       "      <th>petal.length</th>\n",
       "      <th>petal.width</th>\n",
       "      <th>variety</th>\n",
       "    </tr>\n",
       "  </thead>\n",
       "  <tbody>\n",
       "    <tr>\n",
       "      <th>0</th>\n",
       "      <td>False</td>\n",
       "      <td>False</td>\n",
       "      <td>False</td>\n",
       "      <td>False</td>\n",
       "      <td>False</td>\n",
       "    </tr>\n",
       "    <tr>\n",
       "      <th>1</th>\n",
       "      <td>False</td>\n",
       "      <td>False</td>\n",
       "      <td>False</td>\n",
       "      <td>False</td>\n",
       "      <td>False</td>\n",
       "    </tr>\n",
       "    <tr>\n",
       "      <th>2</th>\n",
       "      <td>False</td>\n",
       "      <td>False</td>\n",
       "      <td>False</td>\n",
       "      <td>False</td>\n",
       "      <td>False</td>\n",
       "    </tr>\n",
       "    <tr>\n",
       "      <th>3</th>\n",
       "      <td>False</td>\n",
       "      <td>False</td>\n",
       "      <td>False</td>\n",
       "      <td>False</td>\n",
       "      <td>False</td>\n",
       "    </tr>\n",
       "    <tr>\n",
       "      <th>4</th>\n",
       "      <td>False</td>\n",
       "      <td>False</td>\n",
       "      <td>False</td>\n",
       "      <td>False</td>\n",
       "      <td>False</td>\n",
       "    </tr>\n",
       "    <tr>\n",
       "      <th>...</th>\n",
       "      <td>...</td>\n",
       "      <td>...</td>\n",
       "      <td>...</td>\n",
       "      <td>...</td>\n",
       "      <td>...</td>\n",
       "    </tr>\n",
       "    <tr>\n",
       "      <th>145</th>\n",
       "      <td>False</td>\n",
       "      <td>False</td>\n",
       "      <td>False</td>\n",
       "      <td>False</td>\n",
       "      <td>False</td>\n",
       "    </tr>\n",
       "    <tr>\n",
       "      <th>146</th>\n",
       "      <td>False</td>\n",
       "      <td>False</td>\n",
       "      <td>False</td>\n",
       "      <td>False</td>\n",
       "      <td>False</td>\n",
       "    </tr>\n",
       "    <tr>\n",
       "      <th>147</th>\n",
       "      <td>False</td>\n",
       "      <td>False</td>\n",
       "      <td>False</td>\n",
       "      <td>False</td>\n",
       "      <td>False</td>\n",
       "    </tr>\n",
       "    <tr>\n",
       "      <th>148</th>\n",
       "      <td>False</td>\n",
       "      <td>False</td>\n",
       "      <td>False</td>\n",
       "      <td>False</td>\n",
       "      <td>False</td>\n",
       "    </tr>\n",
       "    <tr>\n",
       "      <th>149</th>\n",
       "      <td>False</td>\n",
       "      <td>False</td>\n",
       "      <td>False</td>\n",
       "      <td>False</td>\n",
       "      <td>False</td>\n",
       "    </tr>\n",
       "  </tbody>\n",
       "</table>\n",
       "<p>150 rows × 5 columns</p>\n",
       "</div>"
      ],
      "text/plain": [
       "     sepal.length  sepal.width  petal.length  petal.width  variety\n",
       "0           False        False         False        False    False\n",
       "1           False        False         False        False    False\n",
       "2           False        False         False        False    False\n",
       "3           False        False         False        False    False\n",
       "4           False        False         False        False    False\n",
       "..            ...          ...           ...          ...      ...\n",
       "145         False        False         False        False    False\n",
       "146         False        False         False        False    False\n",
       "147         False        False         False        False    False\n",
       "148         False        False         False        False    False\n",
       "149         False        False         False        False    False\n",
       "\n",
       "[150 rows x 5 columns]"
      ]
     },
     "execution_count": 218,
     "metadata": {},
     "output_type": "execute_result"
    }
   ],
   "source": [
    "df.isnull()"
   ]
  },
  {
   "cell_type": "code",
   "execution_count": 220,
   "id": "3d8c36ba-31e0-4554-8ff2-d26c2caa3d8e",
   "metadata": {},
   "outputs": [
    {
     "data": {
      "text/plain": [
       "sepal.length    0\n",
       "sepal.width     0\n",
       "petal.length    0\n",
       "petal.width     0\n",
       "variety         0\n",
       "dtype: int64"
      ]
     },
     "execution_count": 220,
     "metadata": {},
     "output_type": "execute_result"
    }
   ],
   "source": [
    "df.isnull().sum() #결측치 개수"
   ]
  },
  {
   "cell_type": "code",
   "execution_count": 222,
   "id": "24ea4c95-563e-4853-abb9-2dc0a3793926",
   "metadata": {},
   "outputs": [
    {
     "data": {
      "text/html": [
       "<div>\n",
       "<style scoped>\n",
       "    .dataframe tbody tr th:only-of-type {\n",
       "        vertical-align: middle;\n",
       "    }\n",
       "\n",
       "    .dataframe tbody tr th {\n",
       "        vertical-align: top;\n",
       "    }\n",
       "\n",
       "    .dataframe thead th {\n",
       "        text-align: right;\n",
       "    }\n",
       "</style>\n",
       "<table border=\"1\" class=\"dataframe\">\n",
       "  <thead>\n",
       "    <tr style=\"text-align: right;\">\n",
       "      <th></th>\n",
       "      <th>sepal.length</th>\n",
       "      <th>sepal.width</th>\n",
       "      <th>petal.length</th>\n",
       "      <th>petal.width</th>\n",
       "      <th>variety</th>\n",
       "    </tr>\n",
       "  </thead>\n",
       "  <tbody>\n",
       "  </tbody>\n",
       "</table>\n",
       "</div>"
      ],
      "text/plain": [
       "Empty DataFrame\n",
       "Columns: [sepal.length, sepal.width, petal.length, petal.width, variety]\n",
       "Index: []"
      ]
     },
     "execution_count": 222,
     "metadata": {},
     "output_type": "execute_result"
    }
   ],
   "source": [
    "df[df['sepal.length'].isnull()] #특정 열이 결측된 행 보기 "
   ]
  },
  {
   "cell_type": "code",
   "execution_count": 224,
   "id": "bd420a90-6cf0-4ce7-8eec-5c3348de3f9e",
   "metadata": {},
   "outputs": [
    {
     "data": {
      "text/html": [
       "<div>\n",
       "<style scoped>\n",
       "    .dataframe tbody tr th:only-of-type {\n",
       "        vertical-align: middle;\n",
       "    }\n",
       "\n",
       "    .dataframe tbody tr th {\n",
       "        vertical-align: top;\n",
       "    }\n",
       "\n",
       "    .dataframe thead th {\n",
       "        text-align: right;\n",
       "    }\n",
       "</style>\n",
       "<table border=\"1\" class=\"dataframe\">\n",
       "  <thead>\n",
       "    <tr style=\"text-align: right;\">\n",
       "      <th></th>\n",
       "      <th>sepal.length</th>\n",
       "      <th>sepal.width</th>\n",
       "      <th>petal.length</th>\n",
       "      <th>petal.width</th>\n",
       "      <th>variety</th>\n",
       "    </tr>\n",
       "  </thead>\n",
       "  <tbody>\n",
       "  </tbody>\n",
       "</table>\n",
       "</div>"
      ],
      "text/plain": [
       "Empty DataFrame\n",
       "Columns: [sepal.length, sepal.width, petal.length, petal.width, variety]\n",
       "Index: []"
      ]
     },
     "execution_count": 224,
     "metadata": {},
     "output_type": "execute_result"
    }
   ],
   "source": [
    "df[df['sepal.length'].isnull() | df['sepal.width'].isnull()] #특정 열이 결측된 행 보기 - 복합 조건 OR"
   ]
  },
  {
   "cell_type": "markdown",
   "id": "d44fcf1f-9742-4cb1-99c0-92b90558ea7d",
   "metadata": {},
   "source": [
    "## 3. 막대 그래프를 생성하여 범주형 데이터의 분포를 시각화합니다."
   ]
  },
  {
   "cell_type": "code",
   "execution_count": 227,
   "id": "90e5e597-10db-4911-b774-8d70da9f9c7d",
   "metadata": {},
   "outputs": [
    {
     "data": {
      "text/plain": [
       "array(['Setosa', 'Versicolor', 'Virginica'], dtype=object)"
      ]
     },
     "execution_count": 227,
     "metadata": {},
     "output_type": "execute_result"
    }
   ],
   "source": [
    "df[\"variety\"].unique() # variety 컬럼의 고유값을 확인 -> 범주형 데이터"
   ]
  },
  {
   "cell_type": "code",
   "execution_count": 229,
   "id": "4b2846f1-7b59-411b-80a4-62498196af6e",
   "metadata": {},
   "outputs": [
    {
     "data": {
      "image/png": "[encoded data removed]",
      "text/plain": [
       "<Figure size 800x600 with 1 Axes>"
      ]
     },
     "metadata": {},
     "output_type": "display_data"
    }
   ],
   "source": [
    "sns.set_theme(style = \"whitegrid\") #option setting \n",
    "variety_counts = df['variety'].value_counts() # 범주형 데이터 카테고리 별로 개수를 세어줌 => 시리즈 데이터 \n",
    "\n",
    "# Plotting \n",
    "plt.figure(figsize=(8, 6))\n",
    "sns.barplot(x=variety_counts.index, y = variety_counts.values) #시리즈의 인덱스와 벨류로 그래프 그림\n",
    "plt.title(\"Counts of each Iris species\")\n",
    "plt.xlabel(\"Species\")\n",
    "plt.ylabel(\"Count\")\n",
    "plt.show()"
   ]
  },
  {
   "cell_type": "markdown",
   "id": "143cdf71-42d6-47d2-b8f8-58793cc0cc85",
   "metadata": {},
   "source": [
    "###  분석 결과 정리 ) 세 종 다 동일한 빈도로 분포되어 있음. "
   ]
  },
  {
   "cell_type": "markdown",
   "id": "e940a8bf-79b5-4973-abd4-2ef02e286e2a",
   "metadata": {},
   "source": [
    "## 4. 선 그래프를 생성하여 시간에 따른 데이터의 변화를 시각화합니다.\n",
    "- 언제 쓰는 가? 시간에 따른 값의 변화를 보고 싶을 때 \n",
    "- 연도별로 CO2 level을 볼 것 이다(새로운 데이터: https://www.kaggle.com/datasets/ucsandiego/carbon-dioxide?resource=download)"
   ]
  },
  {
   "cell_type": "code",
   "execution_count": 233,
   "id": "746c58e8-2c65-4f9e-93cd-53ca87f7885b",
   "metadata": {},
   "outputs": [
    {
     "data": {
      "text/html": [
       "<div>\n",
       "<style scoped>\n",
       "    .dataframe tbody tr th:only-of-type {\n",
       "        vertical-align: middle;\n",
       "    }\n",
       "\n",
       "    .dataframe tbody tr th {\n",
       "        vertical-align: top;\n",
       "    }\n",
       "\n",
       "    .dataframe thead th {\n",
       "        text-align: right;\n",
       "    }\n",
       "</style>\n",
       "<table border=\"1\" class=\"dataframe\">\n",
       "  <thead>\n",
       "    <tr style=\"text-align: right;\">\n",
       "      <th></th>\n",
       "      <th>Year</th>\n",
       "      <th>Month</th>\n",
       "      <th>Decimal Date</th>\n",
       "      <th>Carbon Dioxide (ppm)</th>\n",
       "      <th>Seasonally Adjusted CO2 (ppm)</th>\n",
       "      <th>Carbon Dioxide Fit (ppm)</th>\n",
       "      <th>Seasonally Adjusted CO2 Fit (ppm)</th>\n",
       "    </tr>\n",
       "  </thead>\n",
       "  <tbody>\n",
       "    <tr>\n",
       "      <th>count</th>\n",
       "      <td>720.000000</td>\n",
       "      <td>720.000000</td>\n",
       "      <td>720.000000</td>\n",
       "      <td>703.000000</td>\n",
       "      <td>703.000000</td>\n",
       "      <td>707.000000</td>\n",
       "      <td>707.000000</td>\n",
       "    </tr>\n",
       "    <tr>\n",
       "      <th>mean</th>\n",
       "      <td>1987.500000</td>\n",
       "      <td>6.500000</td>\n",
       "      <td>1987.997492</td>\n",
       "      <td>352.375633</td>\n",
       "      <td>352.375206</td>\n",
       "      <td>352.054074</td>\n",
       "      <td>352.049830</td>\n",
       "    </tr>\n",
       "    <tr>\n",
       "      <th>std</th>\n",
       "      <td>17.330141</td>\n",
       "      <td>3.454452</td>\n",
       "      <td>17.332539</td>\n",
       "      <td>26.241884</td>\n",
       "      <td>26.171620</td>\n",
       "      <td>26.241431</td>\n",
       "      <td>26.178904</td>\n",
       "    </tr>\n",
       "    <tr>\n",
       "      <th>min</th>\n",
       "      <td>1958.000000</td>\n",
       "      <td>1.000000</td>\n",
       "      <td>1958.041100</td>\n",
       "      <td>313.210000</td>\n",
       "      <td>314.420000</td>\n",
       "      <td>312.450000</td>\n",
       "      <td>314.890000</td>\n",
       "    </tr>\n",
       "    <tr>\n",
       "      <th>25%</th>\n",
       "      <td>1972.750000</td>\n",
       "      <td>3.750000</td>\n",
       "      <td>1973.019900</td>\n",
       "      <td>328.555000</td>\n",
       "      <td>329.010000</td>\n",
       "      <td>328.340000</td>\n",
       "      <td>328.400000</td>\n",
       "    </tr>\n",
       "    <tr>\n",
       "      <th>50%</th>\n",
       "      <td>1987.500000</td>\n",
       "      <td>6.500000</td>\n",
       "      <td>1987.998600</td>\n",
       "      <td>349.800000</td>\n",
       "      <td>349.820000</td>\n",
       "      <td>349.370000</td>\n",
       "      <td>349.270000</td>\n",
       "    </tr>\n",
       "    <tr>\n",
       "      <th>75%</th>\n",
       "      <td>2002.250000</td>\n",
       "      <td>9.250000</td>\n",
       "      <td>2002.977425</td>\n",
       "      <td>373.195000</td>\n",
       "      <td>372.935000</td>\n",
       "      <td>372.840000</td>\n",
       "      <td>372.605000</td>\n",
       "    </tr>\n",
       "    <tr>\n",
       "      <th>max</th>\n",
       "      <td>2017.000000</td>\n",
       "      <td>12.000000</td>\n",
       "      <td>2017.956200</td>\n",
       "      <td>407.650000</td>\n",
       "      <td>406.040000</td>\n",
       "      <td>407.280000</td>\n",
       "      <td>405.830000</td>\n",
       "    </tr>\n",
       "  </tbody>\n",
       "</table>\n",
       "</div>"
      ],
      "text/plain": [
       "              Year       Month  Decimal Date  Carbon Dioxide (ppm)  \\\n",
       "count   720.000000  720.000000    720.000000            703.000000   \n",
       "mean   1987.500000    6.500000   1987.997492            352.375633   \n",
       "std      17.330141    3.454452     17.332539             26.241884   \n",
       "min    1958.000000    1.000000   1958.041100            313.210000   \n",
       "25%    1972.750000    3.750000   1973.019900            328.555000   \n",
       "50%    1987.500000    6.500000   1987.998600            349.800000   \n",
       "75%    2002.250000    9.250000   2002.977425            373.195000   \n",
       "max    2017.000000   12.000000   2017.956200            407.650000   \n",
       "\n",
       "       Seasonally Adjusted CO2 (ppm)  Carbon Dioxide Fit (ppm)  \\\n",
       "count                     703.000000                707.000000   \n",
       "mean                      352.375206                352.054074   \n",
       "std                        26.171620                 26.241431   \n",
       "min                       314.420000                312.450000   \n",
       "25%                       329.010000                328.340000   \n",
       "50%                       349.820000                349.370000   \n",
       "75%                       372.935000                372.840000   \n",
       "max                       406.040000                407.280000   \n",
       "\n",
       "       Seasonally Adjusted CO2 Fit (ppm)  \n",
       "count                         707.000000  \n",
       "mean                          352.049830  \n",
       "std                            26.178904  \n",
       "min                           314.890000  \n",
       "25%                           328.400000  \n",
       "50%                           349.270000  \n",
       "75%                           372.605000  \n",
       "max                           405.830000  "
      ]
     },
     "execution_count": 233,
     "metadata": {},
     "output_type": "execute_result"
    }
   ],
   "source": [
    "co2 = pd.read_csv('./data/Carbon Dioxide Levels in Atmosphere.csv')\n",
    "co2.describe()"
   ]
  },
  {
   "cell_type": "code",
   "execution_count": 235,
   "id": "3d141ce2-1516-4211-8d7b-00cc9fa13f8d",
   "metadata": {},
   "outputs": [],
   "source": [
    "co2.notnull().sum() # 결측값 있음. \n",
    "co2 = co2.dropna() #약 18개의 데이터가 drop"
   ]
  },
  {
   "cell_type": "code",
   "execution_count": 237,
   "id": "93b45c18-28b6-420d-9991-9a164b4f3267",
   "metadata": {},
   "outputs": [
    {
     "data": {
      "text/plain": [
       "[<matplotlib.lines.Line2D at 0x291139070>]"
      ]
     },
     "execution_count": 237,
     "metadata": {},
     "output_type": "execute_result"
    },
    {
     "data": {
      "image/png": "[encoded data removed]",
      "text/plain": [
       "<Figure size 640x480 with 1 Axes>"
      ]
     },
     "metadata": {},
     "output_type": "display_data"
    }
   ],
   "source": [
    "#plotting\n",
    "plt.plot(co2.Year, co2['Seasonally Adjusted CO2 (ppm)'], label='Seasonally Adjusted CO2 (ppm)') #전체 데이터"
   ]
  },
  {
   "cell_type": "markdown",
   "id": "d97aec38-47c1-42fc-9a2c-bde26a061b93",
   "metadata": {},
   "source": [
    "## 5. 산점도를 생성하여 두 변수 간의 상관관계를 시각화합니다.\n",
    "### - Q. 꽃잎(sepal) 길이와 꽃 받침(petal) 길이의 연관성이 있는가?\n"
   ]
  },
  {
   "cell_type": "code",
   "execution_count": 244,
   "id": "89a37c71-099f-4814-b61f-80eec3b621fa",
   "metadata": {},
   "outputs": [
    {
     "data": {
      "text/plain": [
       "Text(0, 0.5, 'length of petal')"
      ]
     },
     "execution_count": 244,
     "metadata": {},
     "output_type": "execute_result"
    },
    {
     "data": {
      "image/png": "[encoded data removed]",
      "text/plain": [
       "<Figure size 640x480 with 1 Axes>"
      ]
     },
     "metadata": {},
     "output_type": "display_data"
    }
   ],
   "source": [
    "sepal_length = list(df['sepal.length'].values)\n",
    "pedal_length = list(df['petal.length'].values)\n",
    "\n",
    "plt.scatter(sepal_length, pedal_length)\n",
    "plt.title(\"Relationshipe btwn length of sepal and petal\")\n",
    "plt.xlabel(\"length of sepal\")\n",
    "plt.ylabel(\"length of petal\")"
   ]
  },
  {
   "cell_type": "markdown",
   "id": "c1c0b1b6-e05c-47d0-ba90-7d99dea5466e",
   "metadata": {},
   "source": [
    "### 결론) 어느 정도 선형 그래프를 보인다."
   ]
  },
  {
   "cell_type": "markdown",
   "id": "79d8eb8b-6636-41a2-bb62-b148b53484b8",
   "metadata": {},
   "source": [
    "## 6. 히스토그램을 생성하여 데이터의 분포를 시각화합니다.\n",
    "- 히스토그램은 연속형 데이터의 빈도를 나타내는데 쓰임. cf) 막대그래프: 범주형 데이터\n",
    "- 꽃받침 너비에 대한 히스토그램을 생성해보겠다.  "
   ]
  },
  {
   "cell_type": "code",
   "execution_count": 248,
   "id": "01d378d6-d901-4bd2-a9e1-89290f3e056c",
   "metadata": {},
   "outputs": [
    {
     "data": {
      "image/png": "[encoded data removed]",
      "text/plain": [
       "<Figure size 640x480 with 1 Axes>"
      ]
     },
     "metadata": {},
     "output_type": "display_data"
    }
   ],
   "source": [
    "petal_width = list(df['petal.width'].values)\n",
    "plt.hist(petal_width)\n",
    "plt.title(\"Distribution of petal width\")\n",
    "plt.xlabel(\"petal width range\")\n",
    "plt.ylabel(\"petal width value\")\n",
    "plt.show()"
   ]
  },
  {
   "cell_type": "code",
   "execution_count": null,
   "id": "4d99969d-4317-4f11-adb8-eb513085211a",
   "metadata": {},
   "outputs": [],
   "source": []
  }
 ],
 "metadata": {
  "kernelspec": {
   "display_name": "Python 3 (ipykernel)",
   "language": "python",
   "name": "python3"
  },
  "language_info": {
   "codemirror_mode": {
    "name": "ipython",
    "version": 3
   },
   "file_extension": ".py",
   "mimetype": "text/x-python",
   "name": "python",
   "nbconvert_exporter": "python",
   "pygments_lexer": "ipython3",
   "version": "3.12.4"
  }
 },
 "nbformat": 4,
 "nbformat_minor": 5
}
