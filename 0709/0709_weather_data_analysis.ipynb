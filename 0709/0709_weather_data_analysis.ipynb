{
 "cells": [
  {
   "cell_type": "code",
   "execution_count": 1,
   "id": "e4b95f26-fe80-414a-ac98-17bd5eddaaab",
   "metadata": {},
   "outputs": [],
   "source": [
    "import pandas as pd\n",
    "#! kaggle datasets download -d zhangluyuan/ab-testing"
   ]
  },
  {
   "cell_type": "code",
   "execution_count": 9,
   "id": "3509edaf-0756-4a11-b8b0-13a297614e54",
   "metadata": {},
   "outputs": [
    {
     "name": "stdout",
     "output_type": "stream",
     "text": [
      "Dataset URL: https://www.kaggle.com/datasets/nikhil7280/weather-type-classification\n",
      "License(s): other\n",
      "Downloading weather-type-classification.zip to ./data\n",
      "100%|█████████████████████████████████████████| 186k/186k [00:00<00:00, 665kB/s]\n",
      "100%|█████████████████████████████████████████| 186k/186k [00:00<00:00, 662kB/s]\n"
     ]
    }
   ],
   "source": [
    "! mkdir data\n",
    "! kaggle datasets download -d nikhil7280/weather-type-classification -p ./data\n",
    "! unzip ./data/weather-type-classification.zip -d ./data # unzip {압축할 데이터} {압축 결과를 저장할 경로}"
   ]
  },
  {
   "cell_type": "code",
   "execution_count": null,
   "id": "49f26bfb-e6bf-448e-8dfd-9d67a5f32675",
   "metadata": {},
   "outputs": [],
   "source": [
    "! pip install selenium"
   ]
  },
  {
   "cell_type": "markdown",
   "id": "464c75d8-8252-4dba-a90c-996e740b60ed",
   "metadata": {},
   "source": [
    "# Topic: Kaggle의 날씨 데이터 분석\n",
    "- 어떤 인사이트를 얻을 수 있까? 어떤 서비스를 개발할 수 있을까?"
   ]
  },
  {
   "cell_type": "markdown",
   "id": "25cbf8df-a49b-4620-8e1d-2d048041dfb3",
   "metadata": {},
   "source": [
    "## Tips : 일상생활에서 겪을 만한 사건을 시나리오로 설정하고 데이터 분석\n",
    "- 1. 질문하기\n",
    "- 2. 작은 단위에서 큰 단위로\n",
    "- 3. 여러 가지 분석과 결과 분석하기\n",
    "- 4. 현장을 이해하고 방향 만들기\n",
    "- 5. 스토리 만들기\n",
    "- 6. 피드백 준비하기"
   ]
  },
  {
   "cell_type": "code",
   "execution_count": null,
   "id": "ba8ba769-831c-4ed0-bf14-88a49d687671",
   "metadata": {},
   "outputs": [],
   "source": [
    "- 1. 질문하기: 날씨에 따라서, 인기있는 음식이 달라질까? \n",
    "인기있다는 것은 각 날씨 해시태그 별 게시글 빈도수, 조회수, 댓글수, 좋아요 총합 등으로 수치화 할 수 있음. \n",
    "수집할 데이터: \n",
    "\n",
    "- 2. 작은 단위에서 큰 단위로\n",
    "- 3. 여러 가지 분석과 결과 분석하기\n",
    "- 4. 현장을 이해하고 방향 만들기\n",
    "- 5. 스토리 만들기\n",
    "- 6. 피드백 준비하기\n"
   ]
  },
  {
   "cell_type": "markdown",
   "id": "2c1a186f-ab32-4bbe-b8f1-b7fefd53e7da",
   "metadata": {},
   "source": [
    "1) 해시 태그 찾기\n",
    "(1) 날씨 해시태그 찾기 및 분류(예: 비 - #비, #우산 #장마)\n",
    "- 아니면 날씨 별로 맛집 해시태그가 다르지 않을까요?\n",
    "- \n",
    "(2) 해당 날씨 태그와 날씨와 관련된 태그만 찾기!!!\n",
    "인기있다는 것은 각 날씨 해시태그 별 게시글 빈도수, 조회수, 댓글수, 좋아요 총합 등으로 수치화 할 수 있음. \n",
    "수집할 데이터: 아이디, 게시일자, 게시글 조아요, 조회수, 댓글수, 댓글 내용, 본문 해시태그 내용 "
   ]
  },
  {
   "cell_type": "code",
   "execution_count": null,
   "id": "3c2d5cbb-265a-4998-ae32-dc6f299466d5",
   "metadata": {},
   "outputs": [],
   "source": [
    "from selenium import webdriver # web driver를 사용하기 위함 \n",
    "from selenium.webdriver.common.keys import Keys ## 키를 조작하기 위함\n",
    "\n",
    "from selenium.webdriver.chrome.service import Service\n",
    "from selenium.webdriver.common.by import By\n",
    "import time"
   ]
  },
  {
   "cell_type": "code",
   "execution_count": null,
   "id": "4ce87067-60a6-479a-9299-84d94a198b76",
   "metadata": {},
   "outputs": [],
   "source": [
    "\n",
    "def data_collection():\n",
    "    "
   ]
  }
 ],
 "metadata": {
  "kernelspec": {
   "display_name": "Python 3 (ipykernel)",
   "language": "python",
   "name": "python3"
  },
  "language_info": {
   "codemirror_mode": {
    "name": "ipython",
    "version": 3
   },
   "file_extension": ".py",
   "mimetype": "text/x-python",
   "name": "python",
   "nbconvert_exporter": "python",
   "pygments_lexer": "ipython3",
   "version": "3.12.4"
  }
 },
 "nbformat": 4,
 "nbformat_minor": 5
}
