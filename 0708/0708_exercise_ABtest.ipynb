{
 "cells": [
  {
   "cell_type": "markdown",
   "id": "04cee631-bd21-4547-8b9a-5acc489d7a4b",
   "metadata": {},
   "source": [
    "# 데이터 출처 : https://www.kaggle.com/datasets/zhangluyuan/ab-testing"
   ]
  },
  {
   "cell_type": "code",
   "execution_count": 3,
   "id": "ba2900d5-1057-4d2d-acc4-8451ae4486cd",
   "metadata": {},
   "outputs": [
    {
     "name": "stdout",
     "output_type": "stream",
     "text": [
      "Dataset URL: https://www.kaggle.com/datasets/zhangluyuan/ab-testing\n",
      "License(s): unknown\n",
      "Downloading ab-testing.zip to /Users/jieun/PycharmProjects/kakao-ai-bootcamp/0708\n",
      " 74%|████████████████████████████▏         | 3.00M/4.04M [00:00<00:00, 5.94MB/s]\n",
      "100%|██████████████████████████████████████| 4.04M/4.04M [00:00<00:00, 6.21MB/s]\n"
     ]
    }
   ],
   "source": [
    "! kaggle datasets download -d zhangluyuan/ab-testing"
   ]
  },
  {
   "cell_type": "code",
   "execution_count": 8,
   "id": "681fe3ae-b6e6-441d-be25-970752b9e21c",
   "metadata": {},
   "outputs": [
    {
     "name": "stdout",
     "output_type": "stream",
     "text": [
      "Archive:  ab-testing.zip\n",
      "  inflating: ./data/ab_data.csv      \n"
     ]
    }
   ],
   "source": [
    "! unzip ab-testing.zip -d ./data"
   ]
  },
  {
   "cell_type": "markdown",
   "id": "601c4471-d7bf-4ff6-965a-523675507919",
   "metadata": {},
   "source": [
    "# 1. 데이터 탐색 \n",
    "user_id : 사용자 ID\n",
    "\n",
    "timestamp : 타임 스탬프(시간 표기)\n",
    "\n",
    "group : 사용자가 control 혹은 treatment 그룹에 속하는 지 여부\n",
    "\n",
    "landing_page : 사용자가 최초로 보게 되는 페이지가 new_page 혹은 old_page인지 여부\n",
    "\n",
    "converted : 사용자가 0(전환하지 않음) 혹은 1(전환)인지 여부"
   ]
  },
  {
   "cell_type": "markdown",
   "id": "cf0c1f02-a456-46e7-8b45-507140788386",
   "metadata": {},
   "source": [
    "## 1. 데이터의 종류와 속성\n",
    "-  주어진 데이터셋에서 범주형 및 연속형 데이터 열을 식별하고, 각 열의 기술 통계와 빈도수를 출력해보세요"
   ]
  },
  {
   "cell_type": "code",
   "execution_count": 222,
   "id": "f46f7dc6-2b83-4eee-b240-04027890cb00",
   "metadata": {},
   "outputs": [
    {
     "name": "stdout",
     "output_type": "stream",
     "text": [
      "##### 데이터 처음 몇 줄 인쇄\n",
      "   user_id                   timestamp      group landing_page  converted\n",
      "0   851104  2017-01-21 22:11:48.556739    control     old_page          0\n",
      "1   804228  2017-01-12 08:01:45.159739    control     old_page          0\n",
      "2   661590  2017-01-11 16:55:06.154213  treatment     new_page          0\n",
      "3   853541  2017-01-08 18:28:03.143765  treatment     new_page          0\n",
      "4   864975  2017-01-21 01:52:26.210827    control     old_page          1\n",
      "5   936923  2017-01-10 15:20:49.083499    control     old_page          0\n",
      "6   679687  2017-01-19 03:26:46.940749  treatment     new_page          1\n",
      "7   719014  2017-01-17 01:48:29.539573    control     old_page          0\n",
      "8   817355  2017-01-04 17:58:08.979471  treatment     new_page          1\n",
      "9   839785  2017-01-15 18:11:06.610965  treatment     new_page          1\n",
      "##### 기본 통계 확인 \n",
      "             user_id      converted\n",
      "count  294478.000000  294478.000000\n",
      "mean   787974.124733       0.119659\n",
      "std     91210.823776       0.324563\n",
      "min    630000.000000       0.000000\n",
      "25%    709032.250000       0.000000\n",
      "50%    787933.500000       0.000000\n",
      "75%    866911.750000       0.000000\n",
      "max    945999.000000       1.000000\n",
      "##### 컬럼 정보 확인 #####\n",
      "<class 'pandas.core.frame.DataFrame'>\n",
      "RangeIndex: 294478 entries, 0 to 294477\n",
      "Data columns (total 5 columns):\n",
      " #   Column        Non-Null Count   Dtype \n",
      "---  ------        --------------   ----- \n",
      " 0   user_id       294478 non-null  int64 \n",
      " 1   timestamp     294478 non-null  object\n",
      " 2   group         294478 non-null  object\n",
      " 3   landing_page  294478 non-null  object\n",
      " 4   converted     294478 non-null  int64 \n",
      "dtypes: int64(2), object(3)\n",
      "memory usage: 11.2+ MB\n",
      "None\n",
      "##########\n"
     ]
    }
   ],
   "source": [
    "import pandas as pd\n",
    "import matplotlib.pyplot as plt \n",
    "import datetime as dt\n",
    "\n",
    "#데이터 셋 로드 \n",
    "csv_path = './data/ab_data.csv'\n",
    "df =  pd.read_csv(csv_path)\n",
    "\n",
    "# 데이터 처음 몇 줄 인쇄 \n",
    "print(\"#\"*5,\"데이터 처음 몇 줄 인쇄\")\n",
    "print(df.head(10))\n",
    "\n",
    "# 기본 통계 확인\n",
    "print(\"#\"*5,\"기본 통계 확인 \")\n",
    "print(df.describe())\n",
    "\n",
    "# 컬럼 정보 확인 \n",
    "print(\"#\"*5,\"컬럼 정보 확인\", '#'*5)\n",
    "print(df.info())\n",
    "print(\"#\"*10)"
   ]
  },
  {
   "cell_type": "code",
   "execution_count": 224,
   "id": "7a35b6ac-38e4-47fd-a053-c9c4ec607570",
   "metadata": {
    "scrolled": true
   },
   "outputs": [
    {
     "name": "stdout",
     "output_type": "stream",
     "text": [
      "##########\n",
      "데이터 타입 확인\n",
      "data types:\n",
      " user_id          int64\n",
      "timestamp       object\n",
      "group           object\n",
      "landing_page    object\n",
      "converted        int64\n",
      "dtype: object\n",
      "##########\n",
      "범주형 데이터 분리하여 분석\n",
      "\n",
      "Categorical Columns:\n",
      " ['timestamp' 'group' 'landing_page']\n",
      "##########\n",
      "수치형 데이터 분리하여 분석\n",
      "\n",
      "Numerical Columns:\n",
      " ['user_id' 'converted']\n"
     ]
    }
   ],
   "source": [
    "# 범주형 및 연속형 데이터 열을 식별\n",
    "print(\"#\"*10)\n",
    "print(\"데이터 타입 확인\")\n",
    "print(\"data types:\\n\", df.dtypes)\n",
    "\n",
    "# 범주형 및 수치형 데이터 분리하여 분석\n",
    "categorical_cols = df.select_dtypes(include = ['object', 'category']).columns\n",
    "numerical_cols = df.select_dtypes(include = ['int64', 'float64']).columns\n",
    "\n",
    "print(\"#\"*10)\n",
    "print(\"범주형 데이터 분리하여 분석\")\n",
    "print(\"\\nCategorical Columns:\\n\", categorical_cols.values)\n",
    "\n",
    "print(\"#\"*10)\n",
    "print(\"수치형 데이터 분리하여 분석\")\n",
    "print(\"\\nNumerical Columns:\\n\", numerical_cols.values)"
   ]
  },
  {
   "cell_type": "code",
   "execution_count": 226,
   "id": "b7b960b6-bf61-4fe5-a04f-c0019586ac05",
   "metadata": {},
   "outputs": [
    {
     "name": "stdout",
     "output_type": "stream",
     "text": [
      "##### data.groupby('group')\n",
      "       group  user_id  timestamp  landing_page  converted\n",
      "0    control   147202     147202        147202     147202\n",
      "1  treatment   147276     147276        147276     147276\n",
      "##### data.groupby('landing_page')\n",
      "  landing_page  user_id  timestamp   group  converted\n",
      "0     new_page   147239     147239  147239     147239\n",
      "1     old_page   147239     147239  147239     147239\n",
      "##### data.groupby('converted')\n",
      "   converted  user_id  timestamp   group  landing_page\n",
      "0          0   259241     259241  259241        259241\n",
      "1          1    35237      35237   35237         35237\n"
     ]
    }
   ],
   "source": [
    "# 각 열의 기술 통계와 빈도 수를 출력\n",
    "\n",
    "#빈도수 출력할 columns: group, landing page, converted \n",
    "freq_cols = [\"group\", \"landing_page\t\", \"converted\" ]\n",
    "print(\"#####\", \"data.groupby('group')\")\n",
    "print(df.groupby('group').count().reset_index())\n",
    "\n",
    "print(\"#####\", \"data.groupby('landing_page')\")\n",
    "print(df.groupby('landing_page').count().reset_index())\n",
    "\n",
    "print(\"#####\", \"data.groupby('converted')\")\n",
    "print(df.groupby('converted').count().reset_index())\n",
    "\n",
    "\n"
   ]
  },
  {
   "cell_type": "markdown",
   "id": "38a34336-ad76-44f2-bb5c-a972193bf2f3",
   "metadata": {},
   "source": [
    "-> group, landing_page는 각 라벨 비율이 비슷하지만, converted는 아니다. "
   ]
  },
  {
   "cell_type": "code",
   "execution_count": 228,
   "id": "43191d95-d850-4123-ae71-c3d432c71da0",
   "metadata": {},
   "outputs": [
    {
     "data": {
      "text/html": [
       "<div>\n",
       "<style scoped>\n",
       "    .dataframe tbody tr th:only-of-type {\n",
       "        vertical-align: middle;\n",
       "    }\n",
       "\n",
       "    .dataframe tbody tr th {\n",
       "        vertical-align: top;\n",
       "    }\n",
       "\n",
       "    .dataframe thead th {\n",
       "        text-align: right;\n",
       "    }\n",
       "</style>\n",
       "<table border=\"1\" class=\"dataframe\">\n",
       "  <thead>\n",
       "    <tr style=\"text-align: right;\">\n",
       "      <th>landing_page</th>\n",
       "      <th>new_page</th>\n",
       "      <th>old_page</th>\n",
       "    </tr>\n",
       "    <tr>\n",
       "      <th>group</th>\n",
       "      <th></th>\n",
       "      <th></th>\n",
       "    </tr>\n",
       "  </thead>\n",
       "  <tbody>\n",
       "    <tr>\n",
       "      <th>control</th>\n",
       "      <td>1928</td>\n",
       "      <td>145274</td>\n",
       "    </tr>\n",
       "    <tr>\n",
       "      <th>treatment</th>\n",
       "      <td>145311</td>\n",
       "      <td>1965</td>\n",
       "    </tr>\n",
       "  </tbody>\n",
       "</table>\n",
       "</div>"
      ],
      "text/plain": [
       "landing_page  new_page  old_page\n",
       "group                           \n",
       "control           1928    145274\n",
       "treatment       145311      1965"
      ]
     },
     "execution_count": 228,
     "metadata": {},
     "output_type": "execute_result"
    }
   ],
   "source": [
    "pd.crosstab(df['group'], df['landing_page'])"
   ]
  },
  {
   "cell_type": "code",
   "execution_count": 139,
   "id": "28cb6869-9777-4720-9bf0-cced36ade0b5",
   "metadata": {},
   "outputs": [],
   "source": []
  },
  {
   "cell_type": "code",
   "execution_count": 166,
   "id": "89473995-660f-458b-ac31-238de5714d56",
   "metadata": {},
   "outputs": [
    {
     "data": {
      "image/png": "[encoded data removed]",
      "text/plain": [
       "<Figure size 2400x600 with 3 Axes>"
      ]
     },
     "metadata": {},
     "output_type": "display_data"
    }
   ],
   "source": [
    "# timestamp 시각화 \n",
    "\n",
    "# 시간대 전처리: str을 datetime 형태로 \n",
    "df['timestamp'] = pd.to_datetime(df['timestamp'] )\n",
    "\n",
    "# 요일, 일자, 시간대를 각각 추출하여 새로운 열 생성\n",
    "df['day_of_week'] = df['timestamp'].dt.day_name()  # 요일\n",
    "df['day'] = df['timestamp'].dt.day  # 일자\n",
    "df['hour'] = df['timestamp'].dt.hour  # 시간대\n",
    "\n",
    "# 요일별 시각화 \n",
    "f, axes = plt.subplots(1,3, figsize = (24,6))\n",
    "\n",
    "axes[0].hist(df['day_of_week'])\n",
    "axes[0].set_title('Histogram of Days of the Week')\n",
    "axes[0].set_xlabel('Day of the Week')\n",
    "axes[0].set_ylabel('Frequency')\n",
    "\n",
    "axes[1].hist(df['day'])\n",
    "axes[1].set_title('Histogram of day')\n",
    "axes[1].set_xlabel('Day')\n",
    "axes[1].set_ylabel('Frequency')\n",
    "\n",
    "axes[2].hist(df['day'])\n",
    "axes[2].set_title('Histogram of Hour')\n",
    "axes[2].set_xlabel('hour')\n",
    "axes[2].set_ylabel('Frequency')\n",
    "\n",
    "\n",
    "plt.show()"
   ]
  },
  {
   "cell_type": "markdown",
   "id": "68d926d6-7ce9-4811-9213-447534dfa1df",
   "metadata": {},
   "source": [
    "> 각 day, 요일, 시간 별로 고르게 분포되어 있다. "
   ]
  },
  {
   "cell_type": "markdown",
   "id": "173213d4-0a0d-463d-b2ee-4d2c736dc5e1",
   "metadata": {},
   "source": [
    "### ANSWER\n",
    "- 범주형 데이터: group, timestamp, landing page\n",
    "- 연속형 데이터: user_id, converted"
   ]
  },
  {
   "cell_type": "markdown",
   "id": "30ea242f-2638-48d9-b8e7-65a2d8c12e14",
   "metadata": {},
   "source": [
    "## 2. 데이터 탐색 (EDA)\n",
    "- 제공된 데이터셋의 결측치와 중복을 파악하고, 적절한 처리 방안을 제안해보세요."
   ]
  },
  {
   "cell_type": "code",
   "execution_count": 46,
   "id": "e5875f37-de13-4755-998d-eaee695d131d",
   "metadata": {},
   "outputs": [
    {
     "name": "stdout",
     "output_type": "stream",
     "text": [
      "결측치 있는 row 개수 user_id         0\n",
      "timestamp       0\n",
      "group           0\n",
      "landing_page    0\n",
      "converted       0\n",
      "dtype: int64\n"
     ]
    }
   ],
   "source": [
    "print(\"결측치 있는 row 개수\", df.isnull().sum())"
   ]
  },
  {
   "cell_type": "markdown",
   "id": "a5644b94-ee40-4751-b0e9-6d3d678b1b07",
   "metadata": {},
   "source": [
    "### ANSWER\n",
    "- 결측치 없음"
   ]
  },
  {
   "cell_type": "code",
   "execution_count": null,
   "id": "672b89d5-0ad4-4bb0-8742-46503b1c93e7",
   "metadata": {},
   "outputs": [],
   "source": [
    "3. 기초통계\n",
    "● 데이터셋의 왜도와 첨도를 계산하고, 그 의미에 대해 설명해보세요.\n",
    "- 해당 데이터에서 "
   ]
  },
  {
   "cell_type": "code",
   "execution_count": 175,
   "id": "f2b661ba-fceb-4539-b93b-6c164684bf3b",
   "metadata": {},
   "outputs": [
    {
     "name": "stdout",
     "output_type": "stream",
     "text": [
      "\n",
      "Skewness of the data:\n",
      " 2.3437251398234857\n",
      "\n",
      "Kurtosis of the data:\n",
      " 3.493071254812598\n"
     ]
    }
   ],
   "source": [
    "\"\"\"\n",
    "왜도(Skewness): 0에 가까울수록 정규분포에 근사, 양의 값은 오른쪽 꼬리가 긴 분포(왼쪽으로 치우친), 음의 값은 왼쪽 꼬리가 긴 분포(오른쪽으로 치우친)\n",
    "첨도(Kurtosis): 0에 가까울수록 정규분포에 근사, 높으면 분포가 뾰족하고, 낮으면 평평\n",
    "\"\"\"\n",
    "\n",
    "print(\"\\nSkewness of the data:\\n\", df['converted'].skew())\n",
    "print(\"\\nKurtosis of the data:\\n\", df['converted'].kurt())\n"
   ]
  },
  {
   "cell_type": "markdown",
   "id": "6f727f26-379c-496d-a7a6-d32fb83e6cba",
   "metadata": {},
   "source": [
    "continuous numeric한 variable이 없어서 skewness와 kurtosis를 측정하는 것이 무의미함. \n",
    "그래도 일단 숫자형 데이터인 converted로 측정해보았다.. \n",
    "둘다 정규 분포에 근사하지는 않다는 결론이 나옴\n",
    "- 왜도: 양의 값이 나왔기 때문에, 왼쪽으로 치우친 분포이다.\n",
    "- 첨도: 양의 값이 나왔기 때문에, 위로 뾰족한 분포를 띈다. "
   ]
  },
  {
   "cell_type": "markdown",
   "id": "0caf9cf1-b0b3-4cea-8f5e-892ae563c915",
   "metadata": {},
   "source": [
    "# 4. 상관관계와 인과관계\n",
    "- 선택한 두 변수 간의 상관관계를 계산하고, 그 결과를 해석해보세요. 이를 바탕으로 가능한 인과관계를 논의해보세요. \n",
    "- landing page 종류가 사용자들 웹사이트에 영향을 주는지 상관 관계 계산 "
   ]
  },
  {
   "cell_type": "code",
   "execution_count": 186,
   "id": "06167504-8dbc-44ce-9c38-51e791bd05ed",
   "metadata": {},
   "outputs": [
    {
     "data": {
      "text/plain": [
       "Index(['user_id', 'timestamp', 'group', 'landing_page', 'converted',\n",
       "       'day_of_week', 'day', 'hour'],\n",
       "      dtype='object')"
      ]
     },
     "execution_count": 186,
     "metadata": {},
     "output_type": "execute_result"
    }
   ],
   "source": [
    "df.columns"
   ]
  },
  {
   "cell_type": "code",
   "execution_count": 196,
   "id": "3147b9c3-4078-4c5b-acfe-a9a2affb10a9",
   "metadata": {},
   "outputs": [
    {
     "name": "stdout",
     "output_type": "stream",
     "text": [
      "Pearson Correlation:\n",
      "             user_id  converted\n",
      "user_id    1.000000   0.001699\n",
      "converted  0.001699   1.000000\n",
      "Pearson Correlation:\n",
      "             user_id  converted\n",
      "user_id    1.000000   0.001698\n",
      "converted  0.001698   1.000000\n"
     ]
    }
   ],
   "source": [
    "cols = ['user_id', 'converted']\n",
    "print(\"Pearson Correlation:\\n\", df[cols].corr(method='pearson'))"
   ]
  },
  {
   "cell_type": "markdown",
   "id": "a26dfb5c-24fe-4e63-8f46-6fa6821e7c7d",
   "metadata": {},
   "source": [
    "> 결론: user id와 웹 사이트 페이지 전환은 거의 상관 관계가 없다.\n",
    "> (numeric 한 데이터가 없어서 그냥 user_id를 넣었다...ㅡㅜ)"
   ]
  },
  {
   "cell_type": "markdown",
   "id": "70fef8c7-e8e9-4333-9d91-20fbb1fa80df",
   "metadata": {},
   "source": [
    "# 5. 가설검정과 A/B 테스트\n",
    "- 주어진 데이터를 사용하여 A/B 테스트를 설계하고, 가설을 설정한 후 통계적 검정을 수행하세요. 결과를 해석하고 결론을 도출해보세요.\n",
    "- 본인의 수집한 데이터에서 가설검정, A/B 테스트를 수행해보기 어렵다면 어떤 가설을 설정하고 A/B 테스트를 어떻게 설계했을지 생각해보세요"
   ]
  },
  {
   "cell_type": "markdown",
   "id": "f9b0624b-286d-430f-9efd-3c5f8acb8935",
   "metadata": {},
   "source": [
    "- 가설 설정(H1): 진입 페이지 종류(landing_page)에 의해서 converted 결과가 달라질 것이다.\n",
    "- 참고 : https://www.kaggle.com/code/chenwei17557/a-b-test-on-landing-page-power-analysis-z-test"
   ]
  },
  {
   "cell_type": "code",
   "execution_count": 217,
   "id": "88864f1c-d9c0-4a89-864c-581a8cfe0e02",
   "metadata": {},
   "outputs": [
    {
     "name": "stdout",
     "output_type": "stream",
     "text": [
      "Chi-square statistic: 1.85683247803069\n",
      "p-value: 0.1729908232665563\n",
      "Degrees of freedom: 1\n",
      "Expected frequencies:\n",
      "[[129620.5  17618.5]\n",
      " [129620.5  17618.5]]\n",
      "초입 페이지 유형과 페이지 접속여부 간에 통계적으로 유의한 관계가 없습니다.\n"
     ]
    }
   ],
   "source": [
    "from statsmodels.stats.proportion import proportions_ztest, proportion_confint\n",
    "import scipy.stats as stats\n",
    "\n",
    "# 예제 데이터 프레임 생성\n",
    "\n",
    "# 교차표 작성 -  categorical 데이터를 비율로 변경 \n",
    "contingency_table = pd.crosstab(df['landing_page'], df['converted'])\n",
    "\n",
    "# 카이제곱 검정 수행: 두 범주형 변수 간에 독립성 \n",
    "chi2, p, dof, expected = stats.chi2_contingency(contingency_table)\n",
    "\n",
    "# 결과 출력\n",
    "print(f'Chi-square statistic: {chi2}')\n",
    "print(f'p-value: {p}')\n",
    "print(f'Degrees of freedom: {dof}')\n",
    "print('Expected frequencies:')\n",
    "print(expected)\n",
    "\n",
    "# 결과 해석\n",
    "if p < 0.05:\n",
    "    print(\"초입 페이지 유형과 페이지 접속여부 간에 통계적으로 유의한 관계가 있습니다.\")\n",
    "else:\n",
    "    print(\"초입 페이지 유형과 페이지 접속여부 간에 통계적으로 유의한 관계가 없습니다.\")"
   ]
  }
 ],
 "metadata": {
  "kernelspec": {
   "display_name": "Python 3 (ipykernel)",
   "language": "python",
   "name": "python3"
  },
  "language_info": {
   "codemirror_mode": {
    "name": "ipython",
    "version": 3
   },
   "file_extension": ".py",
   "mimetype": "text/x-python",
   "name": "python",
   "nbconvert_exporter": "python",
   "pygments_lexer": "ipython3",
   "version": "3.12.4"
  }
 },
 "nbformat": 4,
 "nbformat_minor": 5
}
